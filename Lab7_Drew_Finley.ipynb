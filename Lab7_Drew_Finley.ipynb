{
  "nbformat": 4,
  "nbformat_minor": 0,
  "metadata": {
    "colab": {
      "provenance": [],
      "authorship_tag": "ABX9TyM2fFCO/KF6VxfC5DbkTp8a",
      "include_colab_link": true
    },
    "kernelspec": {
      "name": "python3",
      "display_name": "Python 3"
    },
    "language_info": {
      "name": "python"
    }
  },
  "cells": [
    {
      "cell_type": "markdown",
      "metadata": {
        "id": "view-in-github",
        "colab_type": "text"
      },
      "source": [
        "<a href=\"https://colab.research.google.com/github/DrewFinley/IMSE-441/blob/main/Lab7_Drew_Finley.ipynb\" target=\"_parent\"><img src=\"https://colab.research.google.com/assets/colab-badge.svg\" alt=\"Open In Colab\"/></a>"
      ]
    },
    {
      "cell_type": "code",
      "execution_count": 1,
      "metadata": {
        "id": "lnXfFv04FqEk"
      },
      "outputs": [],
      "source": [
        "\n",
        "import numpy as np\n",
        "import matplotlib.pyplot as plt\n",
        "from scipy.stats import ttest_1samp"
      ]
    },
    {
      "cell_type": "code",
      "source": [
        "\n",
        "#Example for Beerios\n",
        "#H0= 9 grams, H1 != 9\n",
        "beerios = 9.16, 8.57, 9.54, 8.70, 9.33, 9.43, 8.39, 9.47, 8.66, 9.01"
      ],
      "metadata": {
        "id": "oPuUU8HkF2QY"
      },
      "execution_count": 2,
      "outputs": []
    },
    {
      "cell_type": "code",
      "source": [
        "%pip install pingouin\n",
        "import pingouin as pg"
      ],
      "metadata": {
        "colab": {
          "base_uri": "https://localhost:8080/"
        },
        "id": "lSM95TitGF01",
        "outputId": "ae138d94-6cbe-4bb2-e821-623738bd5ded"
      },
      "execution_count": 3,
      "outputs": [
        {
          "output_type": "stream",
          "name": "stdout",
          "text": [
            "Looking in indexes: https://pypi.org/simple, https://us-python.pkg.dev/colab-wheels/public/simple/\n",
            "Collecting pingouin\n",
            "  Downloading pingouin-0.5.3-py3-none-any.whl (198 kB)\n",
            "\u001b[2K     \u001b[90m━━━━━━━━━━━━━━━━━━━━━━━━━━━━━━━━━━━━━━━\u001b[0m \u001b[32m198.6/198.6 KB\u001b[0m \u001b[31m5.1 MB/s\u001b[0m eta \u001b[36m0:00:00\u001b[0m\n",
            "\u001b[?25hCollecting pandas-flavor>=0.2.0\n",
            "  Downloading pandas_flavor-0.5.0-py3-none-any.whl (7.1 kB)\n",
            "Requirement already satisfied: statsmodels>=0.13 in /usr/local/lib/python3.9/dist-packages (from pingouin) (0.13.5)\n",
            "Collecting outdated\n",
            "  Downloading outdated-0.2.2-py2.py3-none-any.whl (7.5 kB)\n",
            "Requirement already satisfied: scipy>=1.7 in /usr/local/lib/python3.9/dist-packages (from pingouin) (1.10.1)\n",
            "Requirement already satisfied: numpy>=1.19 in /usr/local/lib/python3.9/dist-packages (from pingouin) (1.22.4)\n",
            "Requirement already satisfied: matplotlib>=3.0.2 in /usr/local/lib/python3.9/dist-packages (from pingouin) (3.7.1)\n",
            "Requirement already satisfied: seaborn>=0.11 in /usr/local/lib/python3.9/dist-packages (from pingouin) (0.12.2)\n",
            "Requirement already satisfied: pandas>=1.0 in /usr/local/lib/python3.9/dist-packages (from pingouin) (1.4.4)\n",
            "Requirement already satisfied: tabulate in /usr/local/lib/python3.9/dist-packages (from pingouin) (0.8.10)\n",
            "Requirement already satisfied: scikit-learn in /usr/local/lib/python3.9/dist-packages (from pingouin) (1.2.2)\n",
            "Requirement already satisfied: pillow>=6.2.0 in /usr/local/lib/python3.9/dist-packages (from matplotlib>=3.0.2->pingouin) (8.4.0)\n",
            "Requirement already satisfied: python-dateutil>=2.7 in /usr/local/lib/python3.9/dist-packages (from matplotlib>=3.0.2->pingouin) (2.8.2)\n",
            "Requirement already satisfied: packaging>=20.0 in /usr/local/lib/python3.9/dist-packages (from matplotlib>=3.0.2->pingouin) (23.0)\n",
            "Requirement already satisfied: kiwisolver>=1.0.1 in /usr/local/lib/python3.9/dist-packages (from matplotlib>=3.0.2->pingouin) (1.4.4)\n",
            "Requirement already satisfied: pyparsing>=2.3.1 in /usr/local/lib/python3.9/dist-packages (from matplotlib>=3.0.2->pingouin) (3.0.9)\n",
            "Requirement already satisfied: cycler>=0.10 in /usr/local/lib/python3.9/dist-packages (from matplotlib>=3.0.2->pingouin) (0.11.0)\n",
            "Requirement already satisfied: fonttools>=4.22.0 in /usr/local/lib/python3.9/dist-packages (from matplotlib>=3.0.2->pingouin) (4.39.2)\n",
            "Requirement already satisfied: importlib-resources>=3.2.0 in /usr/local/lib/python3.9/dist-packages (from matplotlib>=3.0.2->pingouin) (5.12.0)\n",
            "Requirement already satisfied: contourpy>=1.0.1 in /usr/local/lib/python3.9/dist-packages (from matplotlib>=3.0.2->pingouin) (1.0.7)\n",
            "Requirement already satisfied: pytz>=2020.1 in /usr/local/lib/python3.9/dist-packages (from pandas>=1.0->pingouin) (2022.7.1)\n",
            "Requirement already satisfied: lazy-loader>=0.1 in /usr/local/lib/python3.9/dist-packages (from pandas-flavor>=0.2.0->pingouin) (0.2)\n",
            "Requirement already satisfied: xarray in /usr/local/lib/python3.9/dist-packages (from pandas-flavor>=0.2.0->pingouin) (2022.12.0)\n",
            "Requirement already satisfied: patsy>=0.5.2 in /usr/local/lib/python3.9/dist-packages (from statsmodels>=0.13->pingouin) (0.5.3)\n",
            "Requirement already satisfied: setuptools>=44 in /usr/local/lib/python3.9/dist-packages (from outdated->pingouin) (67.6.0)\n",
            "Collecting littleutils\n",
            "  Downloading littleutils-0.2.2.tar.gz (6.6 kB)\n",
            "  Preparing metadata (setup.py) ... \u001b[?25l\u001b[?25hdone\n",
            "Requirement already satisfied: requests in /usr/local/lib/python3.9/dist-packages (from outdated->pingouin) (2.27.1)\n",
            "Requirement already satisfied: threadpoolctl>=2.0.0 in /usr/local/lib/python3.9/dist-packages (from scikit-learn->pingouin) (3.1.0)\n",
            "Requirement already satisfied: joblib>=1.1.1 in /usr/local/lib/python3.9/dist-packages (from scikit-learn->pingouin) (1.1.1)\n",
            "Requirement already satisfied: zipp>=3.1.0 in /usr/local/lib/python3.9/dist-packages (from importlib-resources>=3.2.0->matplotlib>=3.0.2->pingouin) (3.15.0)\n",
            "Requirement already satisfied: six in /usr/local/lib/python3.9/dist-packages (from patsy>=0.5.2->statsmodels>=0.13->pingouin) (1.16.0)\n",
            "Requirement already satisfied: certifi>=2017.4.17 in /usr/local/lib/python3.9/dist-packages (from requests->outdated->pingouin) (2022.12.7)\n",
            "Requirement already satisfied: idna<4,>=2.5 in /usr/local/lib/python3.9/dist-packages (from requests->outdated->pingouin) (3.4)\n",
            "Requirement already satisfied: urllib3<1.27,>=1.21.1 in /usr/local/lib/python3.9/dist-packages (from requests->outdated->pingouin) (1.26.15)\n",
            "Requirement already satisfied: charset-normalizer~=2.0.0 in /usr/local/lib/python3.9/dist-packages (from requests->outdated->pingouin) (2.0.12)\n",
            "Building wheels for collected packages: littleutils\n",
            "  Building wheel for littleutils (setup.py) ... \u001b[?25l\u001b[?25hdone\n",
            "  Created wheel for littleutils: filename=littleutils-0.2.2-py3-none-any.whl size=7048 sha256=e4948fc8a0084ffdc000ca0e4bf8e4be2c2003d8c9666bc6306923ed31e126fd\n",
            "  Stored in directory: /root/.cache/pip/wheels/04/bb/0d/2d02ec45f29c48d6192476bfb59c5a0e64b605e7212374dd15\n",
            "Successfully built littleutils\n",
            "Installing collected packages: littleutils, outdated, pandas-flavor, pingouin\n",
            "Successfully installed littleutils-0.2.2 outdated-0.2.2 pandas-flavor-0.5.0 pingouin-0.5.3\n"
          ]
        }
      ]
    },
    {
      "cell_type": "code",
      "source": [
        "pg.qqplot(beerios)\n",
        "plt.show()"
      ],
      "metadata": {
        "colab": {
          "base_uri": "https://localhost:8080/",
          "height": 279
        },
        "id": "cr02WHBUGtRh",
        "outputId": "0d96e477-46d4-4276-8ee6-0e97b4e08a8a"
      },
      "execution_count": 4,
      "outputs": [
        {
          "output_type": "display_data",
          "data": {
            "text/plain": [
              "<Figure size 432x288 with 1 Axes>"
            ],
            "image/png": "[encoded data removed]"
          },
          "metadata": {
            "needs_background": "light"
          }
        }
      ]
    },
    {
      "cell_type": "code",
      "source": [
        "ttest_1samp(a=beerios, popmean= 9)"
      ],
      "metadata": {
        "colab": {
          "base_uri": "https://localhost:8080/"
        },
        "id": "WROG5HnkG1-d",
        "outputId": "38f2c99e-0bf4-41ab-f93a-12dc1aa130e6"
      },
      "execution_count": 5,
      "outputs": [
        {
          "output_type": "execute_result",
          "data": {
            "text/plain": [
              "TtestResult(statistic=0.19574525062921205, pvalue=0.8491577226110049, df=9)"
            ]
          },
          "metadata": {},
          "execution_count": 5
        }
      ]
    },
    {
      "cell_type": "markdown",
      "source": [
        "Fail to reject the null hypothesis as the pvalue is larger than the .05. The mean is 9. "
      ],
      "metadata": {
        "id": "wQVr0l58HK4Z"
      }
    },
    {
      "cell_type": "code",
      "source": [
        "t_stat, p_value = ttest_1samp(a = beerios, popmean = 9)\n",
        "print(p_value)"
      ],
      "metadata": {
        "colab": {
          "base_uri": "https://localhost:8080/"
        },
        "id": "9WAqiSwkHFEJ",
        "outputId": "c8b92d79-1862-4f9d-d0af-d4a7eab8a8d0"
      },
      "execution_count": 6,
      "outputs": [
        {
          "output_type": "stream",
          "name": "stdout",
          "text": [
            "0.8491577226110049\n"
          ]
        }
      ]
    },
    {
      "cell_type": "code",
      "source": [
        "if p_value < .05:\n",
        "  print('Reject the null hypothesis ')\n",
        "else:\n",
        "  print('Fail to reject the null hypothesis')"
      ],
      "metadata": {
        "colab": {
          "base_uri": "https://localhost:8080/"
        },
        "id": "hk1I4yuyHu_Z",
        "outputId": "5b8d9baa-3406-4d13-8542-de68a25aa861"
      },
      "execution_count": 7,
      "outputs": [
        {
          "output_type": "stream",
          "name": "stdout",
          "text": [
            "Fail to reject the null hypothesis\n"
          ]
        }
      ]
    },
    {
      "cell_type": "code",
      "source": [
        "ttest_1samp(beerios, popmean = 9).confidence_interval(confidence_level = .95)"
      ],
      "metadata": {
        "colab": {
          "base_uri": "https://localhost:8080/"
        },
        "id": "VXdafHlgIP4R",
        "outputId": "5c20aa62-84e0-4bf5-9ac7-4aea8e15dee8"
      },
      "execution_count": 8,
      "outputs": [
        {
          "output_type": "execute_result",
          "data": {
            "text/plain": [
              "ConfidenceInterval(low=8.725527390615076, high=9.326472609384924)"
            ]
          },
          "metadata": {},
          "execution_count": 8
        }
      ]
    },
    {
      "cell_type": "markdown",
      "source": [
        "We can say that we are 95% confident that the mean value is within the range above. This further proves that we should fail to reject H0 and thus 9 is the mean. "
      ],
      "metadata": {
        "id": "xLAeY7BcIsET"
      }
    },
    {
      "cell_type": "code",
      "source": [
        "\n",
        "#Example Golf club\n",
        "#Hypothesis  H0= 0.82, H1 > 0.82\n",
        "Club= 0.8411, 0.8191, 0.8182, 0.8125, 0.8750, 0.8580, 0.8532, 0.8483, 0.8276, 0.7983, 0.8042, 0.8730, 0.8282, 0.8359, 0.8660"
      ],
      "metadata": {
        "id": "U4-UzvyDIlF8"
      },
      "execution_count": 9,
      "outputs": []
    },
    {
      "cell_type": "code",
      "source": [
        "pg.qqplot(Club)"
      ],
      "metadata": {
        "colab": {
          "base_uri": "https://localhost:8080/",
          "height": 296
        },
        "id": "5TBFImDyJJgY",
        "outputId": "5e0e60bf-ed8f-4dce-bd88-5b6b67cfc32a"
      },
      "execution_count": 10,
      "outputs": [
        {
          "output_type": "execute_result",
          "data": {
            "text/plain": [
              "<Axes: xlabel='Theoretical quantiles', ylabel='Ordered quantiles'>"
            ]
          },
          "metadata": {},
          "execution_count": 10
        },
        {
          "output_type": "display_data",
          "data": {
            "text/plain": [
              "<Figure size 432x288 with 1 Axes>"
            ],
            "image/png": "[encoded data removed]"
          },
          "metadata": {
            "needs_background": "light"
          }
        }
      ]
    },
    {
      "cell_type": "code",
      "source": [
        "ttest_1samp(a=Club, popmean= .82)"
      ],
      "metadata": {
        "colab": {
          "base_uri": "https://localhost:8080/"
        },
        "id": "Si31RbaHJXYL",
        "outputId": "18a6511d-1ab9-47db-df27-d925de98ffc5"
      },
      "execution_count": 11,
      "outputs": [
        {
          "output_type": "execute_result",
          "data": {
            "text/plain": [
              "TtestResult(statistic=2.718978782525142, pvalue=0.016626737363021643, df=14)"
            ]
          },
          "metadata": {},
          "execution_count": 11
        }
      ]
    },
    {
      "cell_type": "markdown",
      "source": [
        "Reject the null hypothesis as pvalue is much lower than .05. The mean is larger than .82. "
      ],
      "metadata": {
        "id": "5XJMOacyJjjf"
      }
    },
    {
      "cell_type": "code",
      "source": [
        "t_stat, p_value = ttest_1samp(a = Club, popmean = .82)\n",
        "print(p_value)"
      ],
      "metadata": {
        "colab": {
          "base_uri": "https://localhost:8080/"
        },
        "id": "bhiuk_8iJgek",
        "outputId": "9e76ff77-e8a2-4cfb-d265-3f7313b902da"
      },
      "execution_count": 12,
      "outputs": [
        {
          "output_type": "stream",
          "name": "stdout",
          "text": [
            "0.016626737363021643\n"
          ]
        }
      ]
    },
    {
      "cell_type": "code",
      "source": [
        "if p_value < .05:\n",
        "  print('Reject the null hypothesis ')\n",
        "else:\n",
        "  print('Fail to reject the null hypothesis')"
      ],
      "metadata": {
        "colab": {
          "base_uri": "https://localhost:8080/"
        },
        "id": "IncApW-yKU0K",
        "outputId": "a19a00b5-16c3-4f40-c7b2-b08e9f1d8c3f"
      },
      "execution_count": 13,
      "outputs": [
        {
          "output_type": "stream",
          "name": "stdout",
          "text": [
            "Reject the null hypothesis \n"
          ]
        }
      ]
    },
    {
      "cell_type": "code",
      "source": [
        "import scipy.stats as stats\n",
        "\n",
        "pop= stats.poisson.rvs(loc=18, mu= 35, size= 1500)\n",
        "samp_1= stats.poisson.rvs(loc=18, mu= 35, size= 60) \n",
        "samp_2= stats.poisson.rvs(loc=18, mu= 30, size= 60) \n",
        "     "
      ],
      "metadata": {
        "id": "iCzaccU1KX-y"
      },
      "execution_count": 14,
      "outputs": []
    },
    {
      "cell_type": "code",
      "source": [
        "pg.qqplot(pop)"
      ],
      "metadata": {
        "colab": {
          "base_uri": "https://localhost:8080/",
          "height": 296
        },
        "id": "vSKRNhjxK_tx",
        "outputId": "0d23c497-4f25-4f61-daed-19d23e8cb269"
      },
      "execution_count": 15,
      "outputs": [
        {
          "output_type": "execute_result",
          "data": {
            "text/plain": [
              "<Axes: xlabel='Theoretical quantiles', ylabel='Ordered quantiles'>"
            ]
          },
          "metadata": {},
          "execution_count": 15
        },
        {
          "output_type": "display_data",
          "data": {
            "text/plain": [
              "<Figure size 432x288 with 1 Axes>"
            ],
            "image/png": "[encoded data removed]"
          },
          "metadata": {
            "needs_background": "light"
          }
        }
      ]
    },
    {
      "cell_type": "code",
      "source": [
        "pg.qqplot(samp_1)"
      ],
      "metadata": {
        "colab": {
          "base_uri": "https://localhost:8080/",
          "height": 296
        },
        "id": "Q1N-H28VK67n",
        "outputId": "f9225af1-79a7-444f-c07a-cadb1ffaa865"
      },
      "execution_count": 16,
      "outputs": [
        {
          "output_type": "execute_result",
          "data": {
            "text/plain": [
              "<Axes: xlabel='Theoretical quantiles', ylabel='Ordered quantiles'>"
            ]
          },
          "metadata": {},
          "execution_count": 16
        },
        {
          "output_type": "display_data",
          "data": {
            "text/plain": [
              "<Figure size 432x288 with 1 Axes>"
            ],
            "image/png": "[encoded data removed]"
          },
          "metadata": {
            "needs_background": "light"
          }
        }
      ]
    },
    {
      "cell_type": "code",
      "source": [
        "pg.qqplot(samp_2)"
      ],
      "metadata": {
        "colab": {
          "base_uri": "https://localhost:8080/",
          "height": 297
        },
        "id": "wLOLS2y3LCym",
        "outputId": "759c210c-4543-4f40-8848-54e3d5042526"
      },
      "execution_count": 17,
      "outputs": [
        {
          "output_type": "execute_result",
          "data": {
            "text/plain": [
              "<Axes: xlabel='Theoretical quantiles', ylabel='Ordered quantiles'>"
            ]
          },
          "metadata": {},
          "execution_count": 17
        },
        {
          "output_type": "display_data",
          "data": {
            "text/plain": [
              "<Figure size 432x288 with 1 Axes>"
            ],
            "image/png": "[encoded data removed]"
          },
          "metadata": {
            "needs_background": "light"
          }
        }
      ]
    },
    {
      "cell_type": "code",
      "source": [
        "pop.mean()"
      ],
      "metadata": {
        "colab": {
          "base_uri": "https://localhost:8080/"
        },
        "id": "uJmP3u8RKe9M",
        "outputId": "403a3bcc-42d9-465b-9b79-dbaa6d6c88d4"
      },
      "execution_count": 18,
      "outputs": [
        {
          "output_type": "execute_result",
          "data": {
            "text/plain": [
              "53.24066666666667"
            ]
          },
          "metadata": {},
          "execution_count": 18
        }
      ]
    },
    {
      "cell_type": "code",
      "source": [
        "samp_1.mean()"
      ],
      "metadata": {
        "colab": {
          "base_uri": "https://localhost:8080/"
        },
        "id": "ALukApOHKloC",
        "outputId": "7a067217-5876-41e6-8f8d-24b31d27bd29"
      },
      "execution_count": 19,
      "outputs": [
        {
          "output_type": "execute_result",
          "data": {
            "text/plain": [
              "52.833333333333336"
            ]
          },
          "metadata": {},
          "execution_count": 19
        }
      ]
    },
    {
      "cell_type": "code",
      "source": [
        "samp_2.mean()"
      ],
      "metadata": {
        "colab": {
          "base_uri": "https://localhost:8080/"
        },
        "id": "QEwxsk-wKp8V",
        "outputId": "f6e5a046-10c7-451a-fa4f-76962c37610c"
      },
      "execution_count": 20,
      "outputs": [
        {
          "output_type": "execute_result",
          "data": {
            "text/plain": [
              "47.666666666666664"
            ]
          },
          "metadata": {},
          "execution_count": 20
        }
      ]
    },
    {
      "cell_type": "code",
      "source": [
        "ttest_1samp(a=samp_1, popmean=pop.mean())"
      ],
      "metadata": {
        "colab": {
          "base_uri": "https://localhost:8080/"
        },
        "id": "2aOETlTlLeKT",
        "outputId": "3be3f33f-4c29-4d1e-c1c4-f6402b2916df"
      },
      "execution_count": 21,
      "outputs": [
        {
          "output_type": "execute_result",
          "data": {
            "text/plain": [
              "TtestResult(statistic=-0.5501909087546578, pvalue=0.5842654833507849, df=59)"
            ]
          },
          "metadata": {},
          "execution_count": 21
        }
      ]
    },
    {
      "cell_type": "markdown",
      "source": [
        "Fail to reject, the population mean is equal to the sample 1 mean. "
      ],
      "metadata": {
        "id": "dCPSM6KbLtpO"
      }
    },
    {
      "cell_type": "code",
      "source": [
        "ttest_1samp(a=samp_2, popmean=pop.mean())"
      ],
      "metadata": {
        "colab": {
          "base_uri": "https://localhost:8080/"
        },
        "id": "xJdsqsSDLri9",
        "outputId": "0435f12c-6a0f-4d85-b72c-590a395df801"
      },
      "execution_count": 22,
      "outputs": [
        {
          "output_type": "execute_result",
          "data": {
            "text/plain": [
              "TtestResult(statistic=-7.46566278352414, pvalue=4.3973452344785755e-10, df=59)"
            ]
          },
          "metadata": {},
          "execution_count": 22
        }
      ]
    },
    {
      "cell_type": "markdown",
      "source": [
        "Reject, as the pvalue is very small. The population mean is not equal to the sample 2 mean. "
      ],
      "metadata": {
        "id": "aWdPVlo5L0ut"
      }
    },
    {
      "cell_type": "code",
      "source": [
        "t_stat, p_value= ttest_1samp(a=samp_1, popmean= pop.mean())\n",
        "if p_value < 0.05:\n",
        "  print(\"We reject the null hypothesis\")\n",
        "else:\n",
        "  print(\"We fail to rejet the null hypothesis\")"
      ],
      "metadata": {
        "colab": {
          "base_uri": "https://localhost:8080/"
        },
        "id": "GU-63Qm5Ksgy",
        "outputId": "9485d42d-06ef-450b-a67d-2f7c0a32c679"
      },
      "execution_count": 23,
      "outputs": [
        {
          "output_type": "stream",
          "name": "stdout",
          "text": [
            "We fail to rejet the null hypothesis\n"
          ]
        }
      ]
    },
    {
      "cell_type": "code",
      "source": [
        "t_stat, p_value= ttest_1samp(a=samp_2, popmean= pop.mean())\n",
        "if p_value < 0.05:\n",
        "  print(\"We reject the null hypothesis\")\n",
        "else:\n",
        "  print(\"We fail to rejet the null hypothesis\")"
      ],
      "metadata": {
        "colab": {
          "base_uri": "https://localhost:8080/"
        },
        "id": "XB8baRGBKwp4",
        "outputId": "de3341c9-35b8-4ddc-a4d2-a51b6dbc1479"
      },
      "execution_count": 24,
      "outputs": [
        {
          "output_type": "stream",
          "name": "stdout",
          "text": [
            "We reject the null hypothesis\n"
          ]
        }
      ]
    },
    {
      "cell_type": "code",
      "source": [
        "ttest_1samp(samp_1, popmean = pop.mean()).confidence_interval(confidence_level = .95)"
      ],
      "metadata": {
        "colab": {
          "base_uri": "https://localhost:8080/"
        },
        "id": "-M1wH258K0Xl",
        "outputId": "f723876e-d066-4491-b160-f2cf4f449905"
      },
      "execution_count": 25,
      "outputs": [
        {
          "output_type": "execute_result",
          "data": {
            "text/plain": [
              "ConfidenceInterval(low=51.35189824607875, high=54.314768420587924)"
            ]
          },
          "metadata": {},
          "execution_count": 25
        }
      ]
    },
    {
      "cell_type": "markdown",
      "source": [
        "# Exponential Distribution"
      ],
      "metadata": {
        "id": "hUQ5tDnXMh8T"
      }
    },
    {
      "cell_type": "markdown",
      "source": [
        "Homework\n",
        "\n",
        "Repeat this process for exponential distribution\n",
        "What is your interpretation about the data?\n",
        "What is conclusion about the hypothesis?"
      ],
      "metadata": {
        "id": "a4_5fepyM1cR"
      }
    },
    {
      "cell_type": "code",
      "source": [
        "# Generate exponential data\n",
        "from scipy.stats import expon\n",
        "exp = np.random.exponential(scale = 7.5, size =25)\n",
        "exp.mean()"
      ],
      "metadata": {
        "id": "jT4gWfv3Mf7_",
        "colab": {
          "base_uri": "https://localhost:8080/"
        },
        "outputId": "9880e6d8-7474-44e1-84e1-54295813e5ba"
      },
      "execution_count": 51,
      "outputs": [
        {
          "output_type": "execute_result",
          "data": {
            "text/plain": [
              "7.460141980544373"
            ]
          },
          "metadata": {},
          "execution_count": 51
        }
      ]
    },
    {
      "cell_type": "code",
      "source": [
        "# Test for normality\n",
        "pg.qqplot(exp)\n"
      ],
      "metadata": {
        "colab": {
          "base_uri": "https://localhost:8080/",
          "height": 297
        },
        "id": "-LhLGA5ziDoy",
        "outputId": "67bcf447-8bb7-45c3-f5c9-576e49c98a2d"
      },
      "execution_count": 47,
      "outputs": [
        {
          "output_type": "execute_result",
          "data": {
            "text/plain": [
              "<Axes: xlabel='Theoretical quantiles', ylabel='Ordered quantiles'>"
            ]
          },
          "metadata": {},
          "execution_count": 47
        },
        {
          "output_type": "display_data",
          "data": {
            "text/plain": [
              "<Figure size 432x288 with 1 Axes>"
            ],
            "image/png": "[encoded data removed]"
          },
          "metadata": {
            "needs_background": "light"
          }
        }
      ]
    },
    {
      "cell_type": "markdown",
      "source": [
        "Most of the points are within the bounds, thus the data can be assumed as normal and a ttest can be run. "
      ],
      "metadata": {
        "id": "P0VP3TnRiV0X"
      }
    },
    {
      "cell_type": "code",
      "source": [
        "#Hypothesis  H0: lambda = 4 , H1: lambda != 4\n",
        "ttest_1samp(a=exp, popmean= 4)"
      ],
      "metadata": {
        "colab": {
          "base_uri": "https://localhost:8080/"
        },
        "id": "dBpWmxEVj2Rc",
        "outputId": "97329947-98a4-488c-b639-98674279667f"
      },
      "execution_count": 31,
      "outputs": [
        {
          "output_type": "execute_result",
          "data": {
            "text/plain": [
              "TtestResult(statistic=2.7808758238588545, pvalue=0.010379612611951064, df=24)"
            ]
          },
          "metadata": {},
          "execution_count": 31
        }
      ]
    },
    {
      "cell_type": "markdown",
      "source": [
        "The pvalue is much lower than .05 indicating that we should reject the null hypothesis. In other words lambda of exp is not equal to 4."
      ],
      "metadata": {
        "id": "nlPUWVmEl9NW"
      }
    },
    {
      "cell_type": "code",
      "source": [
        "t_stat, p_value= ttest_1samp(a=exp, popmean= 4)\n",
        "if p_value < 0.05:\n",
        "  print(\"We reject the null hypothesis, lambda is not equal to lambda of 4\")\n",
        "else:\n",
        "  print(\"We fail to rejet the null hypothesis, lambda is equal to lambda of 4\")"
      ],
      "metadata": {
        "colab": {
          "base_uri": "https://localhost:8080/"
        },
        "id": "K0sauFQjkVwz",
        "outputId": "fb4f376b-b997-40b9-8b72-9b28725f38f6"
      },
      "execution_count": 33,
      "outputs": [
        {
          "output_type": "stream",
          "name": "stdout",
          "text": [
            "We reject the null hypothesis, lambda is not equal to lambda of 4\n"
          ]
        }
      ]
    },
    {
      "cell_type": "code",
      "source": [
        "CI= stats.ttest_1samp(exp,popmean = exp.mean()).confidence_interval(confidence_level=0.95)\n",
        "CI"
      ],
      "metadata": {
        "colab": {
          "base_uri": "https://localhost:8080/"
        },
        "id": "cbEFYqsIl5fC",
        "outputId": "234573a6-b363-40ae-df31-71459b247cca"
      },
      "execution_count": 44,
      "outputs": [
        {
          "output_type": "execute_result",
          "data": {
            "text/plain": [
              "ConfidenceInterval(low=5.878596448574226, high=16.694092873183465)"
            ]
          },
          "metadata": {},
          "execution_count": 44
        }
      ]
    },
    {
      "cell_type": "markdown",
      "source": [
        "This confidence is rather large but we can say with 95% confidence that true mean lies within that range. Since the range is so large we don't know much about the exact value of the true mean. "
      ],
      "metadata": {
        "id": "KMGg9mcAmBZA"
      }
    },
    {
      "cell_type": "code",
      "source": [],
      "metadata": {
        "id": "UMPQwmnspLZp"
      },
      "execution_count": null,
      "outputs": []
    }
  ]
}