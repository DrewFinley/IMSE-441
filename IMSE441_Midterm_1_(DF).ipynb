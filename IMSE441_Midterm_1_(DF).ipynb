{
  "nbformat": 4,
  "nbformat_minor": 0,
  "metadata": {
    "colab": {
      "provenance": [],
      "include_colab_link": true
    },
    "kernelspec": {
      "name": "python3",
      "display_name": "Python 3"
    },
    "language_info": {
      "name": "python"
    }
  },
  "cells": [
    {
      "cell_type": "markdown",
      "metadata": {
        "id": "view-in-github",
        "colab_type": "text"
      },
      "source": [
        "<a href=\"https://colab.research.google.com/github/DrewFinley/IMSE-441/blob/main/IMSE441_Midterm_1_(DF).ipynb\" target=\"_parent\"><img src=\"https://colab.research.google.com/assets/colab-badge.svg\" alt=\"Open In Colab\"/></a>"
      ]
    },
    {
      "cell_type": "markdown",
      "source": [
        "### **IMSE 441 MIDTERM 1**\n",
        "\n",
        "- Please rename the file as 'IMSE441_Midterm_1_(your initials)\n",
        "- Complete your exam and upload the google colab code link as a submission\n",
        "- Use whatever material you have as a reference when solving but please dont discuss with friends or simply copy without logic\n",
        "- Total exam is 100 marks, of which 30points for in class exam and 70 marks is takehome for coding\n",
        "- Of the 70 marks of coding, **5 points** will be awarded for writing the code in a well organized manner like **headings** and **# comments or interpretation of what you are doing in the code**. Make sure all graphs or pvalues have interpretation.\n",
        "\n",
        "- ***Hint:*** If sample size of dataframe is already small, i.e. <=30, you **dont** need to create a smaller dataframe to perform t-test. \n",
        "\n",
        "**ALL THE VERY BEST!**"
      ],
      "metadata": {
        "id": "tc20-ddJStAV"
      }
    },
    {
      "cell_type": "markdown",
      "source": [
        "### **Question1:** (20 points)\n",
        "a) Choose a discrete and continuous distribution of your choice, generate random samples and find their mean, variance and standard deviation. \n",
        "\n",
        "b)Plot pmf/pdf and cdf of both the distributions.\n",
        "\n",
        "c)What is the difference between pmf and pdf?"
      ],
      "metadata": {
        "id": "l2l5wdeWYR5x"
      }
    },
    {
      "cell_type": "code",
      "source": [
        "# imports\n",
        "import numpy as np\n",
        "import pandas as pd\n",
        "import matplotlib.pyplot as plt\n",
        "from scipy.stats import randint\n",
        "from scipy.stats import norm\n",
        "from scipy.stats import binom\n",
        "from scipy.stats import expon\n",
        "from scipy.stats.distributions import weibull_min\n",
        "from seaborn.regression import statsmodels\n",
        "import seaborn as sns\n",
        "import scipy.stats as stats\n",
        "!pip install pingouin\n",
        "import pingouin as pg\n"
      ],
      "metadata": {
        "id": "uZ-vsvUhYF8V",
        "colab": {
          "base_uri": "https://localhost:8080/"
        },
        "outputId": "cb193257-bcd2-4172-d345-a8c2106dd2c1"
      },
      "execution_count": 1,
      "outputs": [
        {
          "output_type": "stream",
          "name": "stdout",
          "text": [
            "Looking in indexes: https://pypi.org/simple, https://us-python.pkg.dev/colab-wheels/public/simple/\n",
            "Requirement already satisfied: pingouin in /usr/local/lib/python3.9/dist-packages (0.5.3)\n",
            "Requirement already satisfied: scikit-learn in /usr/local/lib/python3.9/dist-packages (from pingouin) (1.2.1)\n",
            "Requirement already satisfied: seaborn>=0.11 in /usr/local/lib/python3.9/dist-packages (from pingouin) (0.11.2)\n",
            "Requirement already satisfied: matplotlib>=3.0.2 in /usr/local/lib/python3.9/dist-packages (from pingouin) (3.5.3)\n",
            "Requirement already satisfied: numpy>=1.19 in /usr/local/lib/python3.9/dist-packages (from pingouin) (1.22.4)\n",
            "Requirement already satisfied: statsmodels>=0.13 in /usr/local/lib/python3.9/dist-packages (from pingouin) (0.13.5)\n",
            "Requirement already satisfied: scipy>=1.7 in /usr/local/lib/python3.9/dist-packages (from pingouin) (1.10.1)\n",
            "Requirement already satisfied: pandas-flavor>=0.2.0 in /usr/local/lib/python3.9/dist-packages (from pingouin) (0.5.0)\n",
            "Requirement already satisfied: tabulate in /usr/local/lib/python3.9/dist-packages (from pingouin) (0.8.10)\n",
            "Requirement already satisfied: outdated in /usr/local/lib/python3.9/dist-packages (from pingouin) (0.2.2)\n",
            "Requirement already satisfied: pandas>=1.0 in /usr/local/lib/python3.9/dist-packages (from pingouin) (1.3.5)\n",
            "Requirement already satisfied: packaging>=20.0 in /usr/local/lib/python3.9/dist-packages (from matplotlib>=3.0.2->pingouin) (23.0)\n",
            "Requirement already satisfied: pillow>=6.2.0 in /usr/local/lib/python3.9/dist-packages (from matplotlib>=3.0.2->pingouin) (8.4.0)\n",
            "Requirement already satisfied: kiwisolver>=1.0.1 in /usr/local/lib/python3.9/dist-packages (from matplotlib>=3.0.2->pingouin) (1.4.4)\n",
            "Requirement already satisfied: pyparsing>=2.2.1 in /usr/local/lib/python3.9/dist-packages (from matplotlib>=3.0.2->pingouin) (3.0.9)\n",
            "Requirement already satisfied: python-dateutil>=2.7 in /usr/local/lib/python3.9/dist-packages (from matplotlib>=3.0.2->pingouin) (2.8.2)\n",
            "Requirement already satisfied: fonttools>=4.22.0 in /usr/local/lib/python3.9/dist-packages (from matplotlib>=3.0.2->pingouin) (4.39.0)\n",
            "Requirement already satisfied: cycler>=0.10 in /usr/local/lib/python3.9/dist-packages (from matplotlib>=3.0.2->pingouin) (0.11.0)\n",
            "Requirement already satisfied: pytz>=2017.3 in /usr/local/lib/python3.9/dist-packages (from pandas>=1.0->pingouin) (2022.7.1)\n",
            "Requirement already satisfied: lazy-loader>=0.1 in /usr/local/lib/python3.9/dist-packages (from pandas-flavor>=0.2.0->pingouin) (0.1)\n",
            "Requirement already satisfied: xarray in /usr/local/lib/python3.9/dist-packages (from pandas-flavor>=0.2.0->pingouin) (2022.12.0)\n",
            "Requirement already satisfied: patsy>=0.5.2 in /usr/local/lib/python3.9/dist-packages (from statsmodels>=0.13->pingouin) (0.5.3)\n",
            "Requirement already satisfied: littleutils in /usr/local/lib/python3.9/dist-packages (from outdated->pingouin) (0.2.2)\n",
            "Requirement already satisfied: requests in /usr/local/lib/python3.9/dist-packages (from outdated->pingouin) (2.25.1)\n",
            "Requirement already satisfied: setuptools>=44 in /usr/local/lib/python3.9/dist-packages (from outdated->pingouin) (57.4.0)\n",
            "Requirement already satisfied: joblib>=1.1.1 in /usr/local/lib/python3.9/dist-packages (from scikit-learn->pingouin) (1.2.0)\n",
            "Requirement already satisfied: threadpoolctl>=2.0.0 in /usr/local/lib/python3.9/dist-packages (from scikit-learn->pingouin) (3.1.0)\n",
            "Requirement already satisfied: six in /usr/local/lib/python3.9/dist-packages (from patsy>=0.5.2->statsmodels>=0.13->pingouin) (1.15.0)\n",
            "Requirement already satisfied: certifi>=2017.4.17 in /usr/local/lib/python3.9/dist-packages (from requests->outdated->pingouin) (2022.12.7)\n",
            "Requirement already satisfied: idna<3,>=2.5 in /usr/local/lib/python3.9/dist-packages (from requests->outdated->pingouin) (2.10)\n",
            "Requirement already satisfied: chardet<5,>=3.0.2 in /usr/local/lib/python3.9/dist-packages (from requests->outdated->pingouin) (4.0.0)\n",
            "Requirement already satisfied: urllib3<1.27,>=1.21.1 in /usr/local/lib/python3.9/dist-packages (from requests->outdated->pingouin) (1.26.14)\n"
          ]
        }
      ]
    },
    {
      "cell_type": "markdown",
      "source": [
        "# a)"
      ],
      "metadata": {
        "id": "XhzPH9DegCbK"
      }
    },
    {
      "cell_type": "code",
      "source": [
        "#a) Creating two distributions \n",
        "# Continous: Normal , Discrete: Binomial \n",
        "N = 500\n",
        "x= np.random.randn(N)\n",
        "\n",
        "n, p = 25, .2\n",
        "success = list(range(n+1))\n",
        "y = np.random.binomial(n, p, 20)\n",
        "\n",
        "# finding the mean, var, standard deviation of each\n",
        "x_mean, x_var, x_std = np.mean(x), np.var(x), np.std(x)\n",
        "print('Normal mean: ', x_mean, 'Normal Var: ', x_var, 'Normal std: ', x_std)\n",
        "y_mean, y_var, y_std = binom.mean(n,p), binom.var(n,p), binom.std(n,p)\n",
        "print('Binomial mean: ', y_mean, 'Binomial Var: ', y_var, 'Binomial std: ', y_std)\n"
      ],
      "metadata": {
        "id": "Ar-7aW5nYMDY",
        "colab": {
          "base_uri": "https://localhost:8080/"
        },
        "outputId": "24bae7d5-3c44-4f15-d7d6-ff2adaa2ec4c"
      },
      "execution_count": 20,
      "outputs": [
        {
          "output_type": "stream",
          "name": "stdout",
          "text": [
            "Normal mean:  0.07653426213474489 Normal Var:  0.9598050837438862 Normal std:  0.9796964242784018\n",
            "Binomial mean:  5.0 Binomial Var:  4.0 Binomial std:  2.0\n"
          ]
        }
      ]
    },
    {
      "cell_type": "code",
      "source": [
        "#b) pdf and cdf plots for Normal\n",
        "#PDF\n",
        "count, bins_count = np.histogram(x, bins=10)\n",
        "  \n",
        "# finding the PDF of the histogram using count values\n",
        "pdf = count / sum(count)\n",
        "  \n",
        "# CDF is adding all of the probabilities from PDF \n",
        "cdf = np.cumsum(pdf)\n",
        "  \n",
        "# plotting PDF and CDF onto one plot\n",
        "plt.plot(bins_count[1:], pdf, color=\"red\", label=\"PDF\")\n",
        "plt.plot(bins_count[1:], cdf, label=\"CDF\")\n",
        "plt.legend()"
      ],
      "metadata": {
        "colab": {
          "base_uri": "https://localhost:8080/",
          "height": 282
        },
        "id": "o2q5uQOvk3kI",
        "outputId": "18eb6c94-3051-42c2-adc2-10e1d52f55b7"
      },
      "execution_count": 21,
      "outputs": [
        {
          "output_type": "execute_result",
          "data": {
            "text/plain": [
              "<matplotlib.legend.Legend at 0x7fe8363d5400>"
            ]
          },
          "metadata": {},
          "execution_count": 21
        },
        {
          "output_type": "display_data",
          "data": {
            "text/plain": [
              "<Figure size 432x288 with 1 Axes>"
            ],
            "image/png": "[encoded data removed]"
          },
          "metadata": {
            "needs_background": "light"
          }
        }
      ]
    },
    {
      "cell_type": "markdown",
      "source": [
        "The PDF in red clearly shows a normal distribution similar to one shown on a z score table, which makes sense as that is the continuous distribution we made. The area under the PDF curve shows the probability of X lying between a set range. The CDF is a cumulative sum of the PDF. As you move from left to right on the PDF the probability becomes closer to 1. "
      ],
      "metadata": {
        "id": "ipXiAluifu3v"
      }
    },
    {
      "cell_type": "code",
      "source": [
        "#b) pmf and cdf plots for Binom\n",
        "\n",
        "# Binom PMF\n",
        "Binom_pmf = [binom.pmf(k, n, p) for k in success ]\n",
        "print(Binom_pmf)\n",
        "plt.bar(success, Binom_pmf)\n",
        "plt.xlabel('Success')\n",
        "plt.ylabel('Probability')\n",
        "plt.title(\"PMF\")\n",
        "plt.show()\n",
        "# Binom CDF\n",
        "binom_cdf = [binom.cdf(k,n,p) for k in success]\n",
        "print(binom_cdf)\n",
        "plt.bar(success, binom_cdf)\n",
        "plt.xlabel('Success')\n",
        "plt.ylabel('Probability')\n",
        "plt.title(\"CDF\")\n",
        "plt.show()"
      ],
      "metadata": {
        "id": "jS35qW5IYMcA",
        "colab": {
          "base_uri": "https://localhost:8080/",
          "height": 628
        },
        "outputId": "556a4e5a-bb2f-4b07-a351-b5cd7beaefea"
      },
      "execution_count": 24,
      "outputs": [
        {
          "output_type": "stream",
          "name": "stdout",
          "text": [
            "[0.0037778931862957215, 0.02361183241434831, 0.07083549724304475, 0.1357680363825023, 0.18668105002594063, 0.19601510252723775, 0.16334591877269813, 0.11084187345290243, 0.06234855381725764, 0.029442372635927125, 0.011776949054370905, 0.004014868995808261, 0.0011710034571107432, 0.00029275086427768576, 6.273232805950408e-05, 1.1500926810909087e-05, 1.7970198142045407e-06, 2.378408577623657e-07, 2.642676197359622e-08, 2.4340438659891216e-09, 1.8255328994918418e-10, 1.0866267258880012e-11, 4.939212390400009e-13, 1.6106127360000022e-14, 3.3554432000000107e-16, 3.3554432000000048e-18]\n"
          ]
        },
        {
          "output_type": "display_data",
          "data": {
            "text/plain": [
              "<Figure size 432x288 with 1 Axes>"
            ],
            "image/png": "[encoded data removed]"
          },
          "metadata": {
            "needs_background": "light"
          }
        },
        {
          "output_type": "stream",
          "name": "stdout",
          "text": [
            "[0.0037778931862957137, 0.027389725600643983, 0.09822522284368877, 0.2339932592261913, 0.42067430925213223, 0.6166894117793686, 0.780035330552067, 0.8908772040049695, 0.9532257578222271, 0.9826681304581543, 0.9944450795125251, 0.9984599485083334, 0.9996309519654442, 0.9999237028297219, 0.9999864351577814, 0.9999979360845923, 0.9999997331044065, 0.9999999709452643, 0.9999999973720262, 0.9999999998060701, 0.9999999999886233, 0.9999999999994896, 0.9999999999999836, 0.9999999999999997, 1.0, 1.0]\n"
          ]
        },
        {
          "output_type": "display_data",
          "data": {
            "text/plain": [
              "<Figure size 432x288 with 1 Axes>"
            ],
            "image/png": "[encoded data removed]"
          },
          "metadata": {
            "needs_background": "light"
          }
        }
      ]
    },
    {
      "cell_type": "markdown",
      "source": [
        "The PMF on top is similar to a PDF but it shows the point pass probability. Instead of a probability for a range, the pmf gives the probability that X takes a specific value. The graph clearly shows the probability is highest near 5. The CDF on bottom is again a summation of these point probabilities. The further right you move on the PDF, the closer the sum of probabilities on the left get to 1. At 6 on the CDF the probability is already .8. "
      ],
      "metadata": {
        "id": "PaMjQAlWiCqO"
      }
    },
    {
      "cell_type": "markdown",
      "source": [
        "### **Question2:** (30 points)\n",
        "a) Import the data \"OTT_platform_data.csv\" and perform data cleaning, descriptive statistics on the  dataset to generate clean data\n",
        "\n",
        "b) How many people watch Netflix and how many watch prime? What is the mean time spent on both the platforms. \n",
        "\n",
        "c) Plot a pie chart to answer the question: Based on the dataset do people like Netflix or prime more?\n",
        "\n",
        "d) Construct a boxplot to see variability of time data on both the platforms. From the plot, determine an approximate median value each platform"
      ],
      "metadata": {
        "id": "6cma69o-ZYQn"
      }
    },
    {
      "cell_type": "markdown",
      "source": [
        "#a)"
      ],
      "metadata": {
        "id": "N_Mco6rOTFpx"
      }
    },
    {
      "cell_type": "code",
      "source": [
        "# reading the csv file and creating a dataframe\n",
        "df = pd.read_csv('https://raw.githubusercontent.com/KhmAsif/IMSE441/main/OTT_platform_data.csv')\n",
        "df"
      ],
      "metadata": {
        "id": "pA1udu5nZXaG",
        "colab": {
          "base_uri": "https://localhost:8080/",
          "height": 802
        },
        "outputId": "da4438e4-040b-4823-b919-8305734c98ba"
      },
      "execution_count": 5,
      "outputs": [
        {
          "output_type": "execute_result",
          "data": {
            "text/plain": [
              "        Platform  Time\n",
              "0        Netflix  0.21\n",
              "1   Amazon Prime  2.53\n",
              "2        Netflix  0.35\n",
              "3   Amazon Prime  0.71\n",
              "4        Netflix  0.67\n",
              "5   Amazon Prime  0.85\n",
              "6        Netflix   NaN\n",
              "7   Amazon Prime  2.46\n",
              "8        Netflix  1.32\n",
              "9   Amazon Prime  1.49\n",
              "10       Netflix  0.68\n",
              "11           NaN  0.75\n",
              "12       Netflix  3.21\n",
              "13  Amazon Prime  3.33\n",
              "14       Netflix  1.47\n",
              "15  Amazon Prime  1.87\n",
              "16       Netflix  0.95\n",
              "17  Amazon Prime  1.26\n",
              "18       Netflix  0.45\n",
              "19  Amazon Prime  0.48\n",
              "20       Netflix  1.18\n",
              "21  Amazon Prime  1.47\n",
              "22       Netflix  3.42\n",
              "23  Amazon Prime   NaN"
            ],
            "text/html": [
              "\n",
              "  <div id=\"df-d0d9f8ca-e760-43fc-8dd6-3795c482157e\">\n",
              "    <div class=\"colab-df-container\">\n",
              "      <div>\n",
              "<style scoped>\n",
              "    .dataframe tbody tr th:only-of-type {\n",
              "        vertical-align: middle;\n",
              "    }\n",
              "\n",
              "    .dataframe tbody tr th {\n",
              "        vertical-align: top;\n",
              "    }\n",
              "\n",
              "    .dataframe thead th {\n",
              "        text-align: right;\n",
              "    }\n",
              "</style>\n",
              "<table border=\"1\" class=\"dataframe\">\n",
              "  <thead>\n",
              "    <tr style=\"text-align: right;\">\n",
              "      <th></th>\n",
              "      <th>Platform</th>\n",
              "      <th>Time</th>\n",
              "    </tr>\n",
              "  </thead>\n",
              "  <tbody>\n",
              "    <tr>\n",
              "      <th>0</th>\n",
              "      <td>Netflix</td>\n",
              "      <td>0.21</td>\n",
              "    </tr>\n",
              "    <tr>\n",
              "      <th>1</th>\n",
              "      <td>Amazon Prime</td>\n",
              "      <td>2.53</td>\n",
              "    </tr>\n",
              "    <tr>\n",
              "      <th>2</th>\n",
              "      <td>Netflix</td>\n",
              "      <td>0.35</td>\n",
              "    </tr>\n",
              "    <tr>\n",
              "      <th>3</th>\n",
              "      <td>Amazon Prime</td>\n",
              "      <td>0.71</td>\n",
              "    </tr>\n",
              "    <tr>\n",
              "      <th>4</th>\n",
              "      <td>Netflix</td>\n",
              "      <td>0.67</td>\n",
              "    </tr>\n",
              "    <tr>\n",
              "      <th>5</th>\n",
              "      <td>Amazon Prime</td>\n",
              "      <td>0.85</td>\n",
              "    </tr>\n",
              "    <tr>\n",
              "      <th>6</th>\n",
              "      <td>Netflix</td>\n",
              "      <td>NaN</td>\n",
              "    </tr>\n",
              "    <tr>\n",
              "      <th>7</th>\n",
              "      <td>Amazon Prime</td>\n",
              "      <td>2.46</td>\n",
              "    </tr>\n",
              "    <tr>\n",
              "      <th>8</th>\n",
              "      <td>Netflix</td>\n",
              "      <td>1.32</td>\n",
              "    </tr>\n",
              "    <tr>\n",
              "      <th>9</th>\n",
              "      <td>Amazon Prime</td>\n",
              "      <td>1.49</td>\n",
              "    </tr>\n",
              "    <tr>\n",
              "      <th>10</th>\n",
              "      <td>Netflix</td>\n",
              "      <td>0.68</td>\n",
              "    </tr>\n",
              "    <tr>\n",
              "      <th>11</th>\n",
              "      <td>NaN</td>\n",
              "      <td>0.75</td>\n",
              "    </tr>\n",
              "    <tr>\n",
              "      <th>12</th>\n",
              "      <td>Netflix</td>\n",
              "      <td>3.21</td>\n",
              "    </tr>\n",
              "    <tr>\n",
              "      <th>13</th>\n",
              "      <td>Amazon Prime</td>\n",
              "      <td>3.33</td>\n",
              "    </tr>\n",
              "    <tr>\n",
              "      <th>14</th>\n",
              "      <td>Netflix</td>\n",
              "      <td>1.47</td>\n",
              "    </tr>\n",
              "    <tr>\n",
              "      <th>15</th>\n",
              "      <td>Amazon Prime</td>\n",
              "      <td>1.87</td>\n",
              "    </tr>\n",
              "    <tr>\n",
              "      <th>16</th>\n",
              "      <td>Netflix</td>\n",
              "      <td>0.95</td>\n",
              "    </tr>\n",
              "    <tr>\n",
              "      <th>17</th>\n",
              "      <td>Amazon Prime</td>\n",
              "      <td>1.26</td>\n",
              "    </tr>\n",
              "    <tr>\n",
              "      <th>18</th>\n",
              "      <td>Netflix</td>\n",
              "      <td>0.45</td>\n",
              "    </tr>\n",
              "    <tr>\n",
              "      <th>19</th>\n",
              "      <td>Amazon Prime</td>\n",
              "      <td>0.48</td>\n",
              "    </tr>\n",
              "    <tr>\n",
              "      <th>20</th>\n",
              "      <td>Netflix</td>\n",
              "      <td>1.18</td>\n",
              "    </tr>\n",
              "    <tr>\n",
              "      <th>21</th>\n",
              "      <td>Amazon Prime</td>\n",
              "      <td>1.47</td>\n",
              "    </tr>\n",
              "    <tr>\n",
              "      <th>22</th>\n",
              "      <td>Netflix</td>\n",
              "      <td>3.42</td>\n",
              "    </tr>\n",
              "    <tr>\n",
              "      <th>23</th>\n",
              "      <td>Amazon Prime</td>\n",
              "      <td>NaN</td>\n",
              "    </tr>\n",
              "  </tbody>\n",
              "</table>\n",
              "</div>\n",
              "      <button class=\"colab-df-convert\" onclick=\"convertToInteractive('df-d0d9f8ca-e760-43fc-8dd6-3795c482157e')\"\n",
              "              title=\"Convert this dataframe to an interactive table.\"\n",
              "              style=\"display:none;\">\n",
              "        \n",
              "  <svg xmlns=\"http://www.w3.org/2000/svg\" height=\"24px\"viewBox=\"0 0 24 24\"\n",
              "       width=\"24px\">\n",
              "    <path d=\"M0 0h24v24H0V0z\" fill=\"none\"/>\n",
              "    <path d=\"M18.56 5.44l.94 2.06.94-2.06 2.06-.94-2.06-.94-.94-2.06-.94 2.06-2.06.94zm-11 1L8.5 8.5l.94-2.06 2.06-.94-2.06-.94L8.5 2.5l-.94 2.06-2.06.94zm10 10l.94 2.06.94-2.06 2.06-.94-2.06-.94-.94-2.06-.94 2.06-2.06.94z\"/><path d=\"M17.41 7.96l-1.37-1.37c-.4-.4-.92-.59-1.43-.59-.52 0-1.04.2-1.43.59L10.3 9.45l-7.72 7.72c-.78.78-.78 2.05 0 2.83L4 21.41c.39.39.9.59 1.41.59.51 0 1.02-.2 1.41-.59l7.78-7.78 2.81-2.81c.8-.78.8-2.07 0-2.86zM5.41 20L4 18.59l7.72-7.72 1.47 1.35L5.41 20z\"/>\n",
              "  </svg>\n",
              "      </button>\n",
              "      \n",
              "  <style>\n",
              "    .colab-df-container {\n",
              "      display:flex;\n",
              "      flex-wrap:wrap;\n",
              "      gap: 12px;\n",
              "    }\n",
              "\n",
              "    .colab-df-convert {\n",
              "      background-color: #E8F0FE;\n",
              "      border: none;\n",
              "      border-radius: 50%;\n",
              "      cursor: pointer;\n",
              "      display: none;\n",
              "      fill: #1967D2;\n",
              "      height: 32px;\n",
              "      padding: 0 0 0 0;\n",
              "      width: 32px;\n",
              "    }\n",
              "\n",
              "    .colab-df-convert:hover {\n",
              "      background-color: #E2EBFA;\n",
              "      box-shadow: 0px 1px 2px rgba(60, 64, 67, 0.3), 0px 1px 3px 1px rgba(60, 64, 67, 0.15);\n",
              "      fill: #174EA6;\n",
              "    }\n",
              "\n",
              "    [theme=dark] .colab-df-convert {\n",
              "      background-color: #3B4455;\n",
              "      fill: #D2E3FC;\n",
              "    }\n",
              "\n",
              "    [theme=dark] .colab-df-convert:hover {\n",
              "      background-color: #434B5C;\n",
              "      box-shadow: 0px 1px 3px 1px rgba(0, 0, 0, 0.15);\n",
              "      filter: drop-shadow(0px 1px 2px rgba(0, 0, 0, 0.3));\n",
              "      fill: #FFFFFF;\n",
              "    }\n",
              "  </style>\n",
              "\n",
              "      <script>\n",
              "        const buttonEl =\n",
              "          document.querySelector('#df-d0d9f8ca-e760-43fc-8dd6-3795c482157e button.colab-df-convert');\n",
              "        buttonEl.style.display =\n",
              "          google.colab.kernel.accessAllowed ? 'block' : 'none';\n",
              "\n",
              "        async function convertToInteractive(key) {\n",
              "          const element = document.querySelector('#df-d0d9f8ca-e760-43fc-8dd6-3795c482157e');\n",
              "          const dataTable =\n",
              "            await google.colab.kernel.invokeFunction('convertToInteractive',\n",
              "                                                     [key], {});\n",
              "          if (!dataTable) return;\n",
              "\n",
              "          const docLinkHtml = 'Like what you see? Visit the ' +\n",
              "            '<a target=\"_blank\" href=https://colab.research.google.com/notebooks/data_table.ipynb>data table notebook</a>'\n",
              "            + ' to learn more about interactive tables.';\n",
              "          element.innerHTML = '';\n",
              "          dataTable['output_type'] = 'display_data';\n",
              "          await google.colab.output.renderOutput(dataTable, element);\n",
              "          const docLink = document.createElement('div');\n",
              "          docLink.innerHTML = docLinkHtml;\n",
              "          element.appendChild(docLink);\n",
              "        }\n",
              "      </script>\n",
              "    </div>\n",
              "  </div>\n",
              "  "
            ]
          },
          "metadata": {},
          "execution_count": 5
        }
      ]
    },
    {
      "cell_type": "code",
      "source": [
        "#data cleaning\n",
        "# check number of nan values\n",
        "print(df.isnull().sum())\n",
        "# remove nan values\n",
        "df = df.dropna()\n",
        "\n",
        "df.isnull().sum()"
      ],
      "metadata": {
        "id": "n8oRuLHDhhIP",
        "colab": {
          "base_uri": "https://localhost:8080/"
        },
        "outputId": "f8a7fbe7-14bb-4405-b5a5-8a1169126567"
      },
      "execution_count": 6,
      "outputs": [
        {
          "output_type": "stream",
          "name": "stdout",
          "text": [
            "Platform    1\n",
            "Time        2\n",
            "dtype: int64\n"
          ]
        },
        {
          "output_type": "execute_result",
          "data": {
            "text/plain": [
              "Platform    0\n",
              "Time        0\n",
              "dtype: int64"
            ]
          },
          "metadata": {},
          "execution_count": 6
        }
      ]
    },
    {
      "cell_type": "code",
      "source": [
        "#lowercase column titles\n",
        "df.columns = df.columns.str.lower()\n",
        "df.columns"
      ],
      "metadata": {
        "id": "haoTRQeThhEv",
        "colab": {
          "base_uri": "https://localhost:8080/"
        },
        "outputId": "990ce5d9-6a79-4b59-ec41-6cc8490a4f23"
      },
      "execution_count": 7,
      "outputs": [
        {
          "output_type": "execute_result",
          "data": {
            "text/plain": [
              "Index(['platform', 'time'], dtype='object')"
            ]
          },
          "metadata": {},
          "execution_count": 7
        }
      ]
    },
    {
      "cell_type": "code",
      "source": [
        "df.info()\n",
        "print('The data now contains no na values and the column titles are all lowercase')"
      ],
      "metadata": {
        "id": "R6faiDWZhg7V",
        "colab": {
          "base_uri": "https://localhost:8080/"
        },
        "outputId": "262e7fff-39ee-435d-85ee-ade190819575"
      },
      "execution_count": 34,
      "outputs": [
        {
          "output_type": "stream",
          "name": "stdout",
          "text": [
            "<class 'pandas.core.frame.DataFrame'>\n",
            "Int64Index: 21 entries, 0 to 22\n",
            "Data columns (total 2 columns):\n",
            " #   Column    Non-Null Count  Dtype  \n",
            "---  ------    --------------  -----  \n",
            " 0   platform  21 non-null     object \n",
            " 1   time      21 non-null     float64\n",
            "dtypes: float64(1), object(1)\n",
            "memory usage: 504.0+ bytes\n",
            "The data now contains no na values and the column titles are all lowercase\n"
          ]
        }
      ]
    },
    {
      "cell_type": "markdown",
      "source": [
        "#b)"
      ],
      "metadata": {
        "id": "8Ohzr6K9W9pe"
      }
    },
    {
      "cell_type": "code",
      "source": [
        "#b number of users\n",
        "plat = df.groupby('platform').size()\n",
        "print(plat)\n",
        "print('Grouping the entries by the platfrom shows how many belong to \\n Amazon or Netflix which indicates how many users are on each platform')"
      ],
      "metadata": {
        "id": "T6cFdNxKhg3t",
        "colab": {
          "base_uri": "https://localhost:8080/"
        },
        "outputId": "63c2ba33-b36e-423f-c133-2504e6568aa0"
      },
      "execution_count": 35,
      "outputs": [
        {
          "output_type": "stream",
          "name": "stdout",
          "text": [
            "platform\n",
            "Amazon Prime    10\n",
            "Netflix         11\n",
            "dtype: int64\n",
            "Grouping the entries by the platfrom shows how many belong to \n",
            " Amazon or Netflix which indicates how many users are on each platform\n"
          ]
        }
      ]
    },
    {
      "cell_type": "code",
      "source": [
        "#b mean watch time\n",
        "mean_time = df.groupby('platform')['time'].mean()\n",
        "print(mean_time)\n",
        "print('Grouping the entries by platform and then using the \\nfunction mean on the time column gives us the mean watchtime for each platform.')"
      ],
      "metadata": {
        "colab": {
          "base_uri": "https://localhost:8080/"
        },
        "id": "3BivpMKXVQcu",
        "outputId": "edfb5f5a-15e4-460b-e818-1e59eb79ed41"
      },
      "execution_count": 36,
      "outputs": [
        {
          "output_type": "stream",
          "name": "stdout",
          "text": [
            "platform\n",
            "Amazon Prime    1.645000\n",
            "Netflix         1.264545\n",
            "Name: time, dtype: float64\n",
            "Grouping the entries by platform and then using the \n",
            "function mean on the time column gives us the mean watchtime for each platform.\n"
          ]
        }
      ]
    },
    {
      "cell_type": "markdown",
      "source": [
        "c)"
      ],
      "metadata": {
        "id": "01MnG3hZXCd_"
      }
    },
    {
      "cell_type": "code",
      "source": [
        "watch_size = df.groupby('platform').size()\n",
        "watch_size.plot(kind='pie', autopct ='%.2f', figsize = (10,10), ylabel ='')\n"
      ],
      "metadata": {
        "id": "Qk1rRNr_hg06",
        "colab": {
          "base_uri": "https://localhost:8080/",
          "height": 592
        },
        "outputId": "4200b71a-6c23-4557-e462-2a75aba6f4e2"
      },
      "execution_count": 46,
      "outputs": [
        {
          "output_type": "execute_result",
          "data": {
            "text/plain": [
              "<AxesSubplot:>"
            ]
          },
          "metadata": {},
          "execution_count": 46
        },
        {
          "output_type": "display_data",
          "data": {
            "text/plain": [
              "<Figure size 720x720 with 1 Axes>"
            ],
            "image/png": "[encoded data removed]"
          },
          "metadata": {}
        }
      ]
    },
    {
      "cell_type": "markdown",
      "source": [
        "The above piechart shows the percentage of users that watch on each platform. Netflix has the edge just slightly. This is one way to measure preference but it is also important to look at time watched on each platform. This could be done with a boxplot. "
      ],
      "metadata": {
        "id": "yP2LwMD2lbfO"
      }
    },
    {
      "cell_type": "markdown",
      "source": [
        "### **Question3:** (15 points)\n",
        "a) Perform tests to check the distribution of 'Time' data in OTT_platform_data.csv before you can do t-test. Check eligibility and interpret your results.\n",
        "\n",
        "b) Does the given data satisfy the criteria for t-testing eligibility? If so,perform t-test to see if 0.83 is an acceptable mean based on 99% significance level. Then create a 99% CI on the unknown mean value of 'Time'\n",
        "\n",
        "c) Is it one sided or two sided CI?\n",
        "\n",
        "d) What is the degree of freedom value for the test?\n",
        "\n",
        "e) Calculate df['Time'].mean(), is it the actual mean or sample mean?\n",
        "\n"
      ],
      "metadata": {
        "id": "mbHfWnybhh4j"
      }
    },
    {
      "cell_type": "markdown",
      "source": [
        "#a)"
      ],
      "metadata": {
        "id": "8zrfFH_AayK8"
      }
    },
    {
      "cell_type": "code",
      "source": [
        "\n",
        "plt.show()            \n",
        "pg.qqplot(df['time']).set_title('Watch Data')"
      ],
      "metadata": {
        "id": "BCMNo1BckKw0",
        "colab": {
          "base_uri": "https://localhost:8080/",
          "height": 312
        },
        "outputId": "f89d1a94-e861-4974-d79b-8f1f1940eb91"
      },
      "execution_count": 12,
      "outputs": [
        {
          "output_type": "execute_result",
          "data": {
            "text/plain": [
              "Text(0.5, 1.0, 'Watch Data')"
            ]
          },
          "metadata": {},
          "execution_count": 12
        },
        {
          "output_type": "display_data",
          "data": {
            "text/plain": [
              "<Figure size 432x288 with 1 Axes>"
            ],
            "image/png": "[encoded data removed]"
          },
          "metadata": {
            "needs_background": "light"
          }
        }
      ]
    },
    {
      "cell_type": "markdown",
      "source": [
        "The data isn't perfectly normal but it does fit within the bounds and is close to the bold red line. The R squared value is also fairly high mean the goodness of fit to the model is also high. With all this in mind, it can be assumed the data follows a normal distribution. "
      ],
      "metadata": {
        "id": "qLVj77CYnlPR"
      }
    },
    {
      "cell_type": "code",
      "source": [
        "print(stats.normaltest(df['time']))"
      ],
      "metadata": {
        "id": "ZoC2gH2ukLyb",
        "colab": {
          "base_uri": "https://localhost:8080/"
        },
        "outputId": "50aa05a7-f316-41f2-9c64-1669424dc156"
      },
      "execution_count": 13,
      "outputs": [
        {
          "output_type": "stream",
          "name": "stdout",
          "text": [
            "NormaltestResult(statistic=2.9693617401687833, pvalue=0.22657463588450225)\n"
          ]
        }
      ]
    },
    {
      "cell_type": "markdown",
      "source": [
        "Running a normal test returns a pvalue larger than alpha which fails to reject the H0 hypothesis, the data frame is normally distributed. "
      ],
      "metadata": {
        "id": "bR1mEViWoFEZ"
      }
    },
    {
      "cell_type": "markdown",
      "source": [
        "Having proven that the data is normally distributed, it meets the requirements to run a t test, as the data also contains less than 40 samples. "
      ],
      "metadata": {
        "id": "uvZM2j9ApFQY"
      }
    },
    {
      "cell_type": "markdown",
      "source": [
        "#b)\n",
        "The data is already small enough so a smaller sample is not needed. For this test alpha = .01"
      ],
      "metadata": {
        "id": "Znl0wb-le5L0"
      }
    },
    {
      "cell_type": "code",
      "source": [
        "stats.ttest_1samp(df['time'],.83)"
      ],
      "metadata": {
        "colab": {
          "base_uri": "https://localhost:8080/"
        },
        "id": "XrxKEZDDcW2R",
        "outputId": "406ffc68-07f6-4210-e150-e8e800197dd4"
      },
      "execution_count": 14,
      "outputs": [
        {
          "output_type": "execute_result",
          "data": {
            "text/plain": [
              "TtestResult(statistic=2.817958669950323, pvalue=0.010626190992228224, df=20)"
            ]
          },
          "metadata": {},
          "execution_count": 14
        }
      ]
    },
    {
      "cell_type": "markdown",
      "source": [
        "The pvalue is slightly larger than an alpha of .01. This means we can fail to reject the null hypothesis or accpt that the mean is .83. Although because the pvalue is so close to alpha the decision could be made to gather more data to be sure of the conclusion. "
      ],
      "metadata": {
        "id": "eRhLnS82pYZi"
      }
    },
    {
      "cell_type": "code",
      "source": [
        "T,P = stats.ttest_1samp(df['time'],.83)\n",
        "T,P"
      ],
      "metadata": {
        "id": "nDv_qvMikLdQ",
        "colab": {
          "base_uri": "https://localhost:8080/"
        },
        "outputId": "162a499f-6cb9-4ba8-a410-0abbe788b289"
      },
      "execution_count": 15,
      "outputs": [
        {
          "output_type": "execute_result",
          "data": {
            "text/plain": [
              "(2.817958669950323, 0.010626190992228224)"
            ]
          },
          "metadata": {},
          "execution_count": 15
        }
      ]
    },
    {
      "cell_type": "code",
      "source": [
        "if P < 0.01:\n",
        "  print(\"Reject Null Hypothesis i.e. actual mean is NOT .83\")\n",
        "else:\n",
        "  print(\"Accept Null Hypothesis i.e. actual mean is .83\")"
      ],
      "metadata": {
        "id": "MtG2bkMikLZ5",
        "colab": {
          "base_uri": "https://localhost:8080/"
        },
        "outputId": "05d002a2-0677-48ce-9455-e4e21a9b9faa"
      },
      "execution_count": 16,
      "outputs": [
        {
          "output_type": "stream",
          "name": "stdout",
          "text": [
            "Accept Null Hypothesis i.e. actual mean is .83\n"
          ]
        }
      ]
    },
    {
      "cell_type": "code",
      "source": [
        "\n",
        "CI= stats.ttest_1samp(df['time'],.83).confidence_interval(confidence_level=0.99)\n",
        "CI\n"
      ],
      "metadata": {
        "id": "G-p6ps4ikLXA",
        "colab": {
          "base_uri": "https://localhost:8080/"
        },
        "outputId": "216678d9-9b06-420d-f622-b1b30a629c06"
      },
      "execution_count": 17,
      "outputs": [
        {
          "output_type": "execute_result",
          "data": {
            "text/plain": [
              "ConfidenceInterval(low=0.8240173368904734, high=2.067411234538098)"
            ]
          },
          "metadata": {},
          "execution_count": 17
        }
      ]
    },
    {
      "cell_type": "markdown",
      "source": [
        "The CI contains the .83 hypothesized although just barely. This further backs up the point earlier that more data would be needed to be sure of the mean. The range of values is also very large due to the high confidence level specified. The trade off for being almost certain of the range having the mean is that we don't know specifically where the mean is. "
      ],
      "metadata": {
        "id": "qU6oPdexqUTo"
      }
    },
    {
      "cell_type": "markdown",
      "source": [
        "#c) \n",
        "This is a two sided confidence interval because the goal is to find a range of where the mean could be within. Had the goal been determining if the mean was larger than .83 a one sided CI would've been used. "
      ],
      "metadata": {
        "id": "_GXKXIRce_Yr"
      }
    },
    {
      "cell_type": "markdown",
      "source": [
        "#d)\n",
        "Code at the top of part b determined the degrees of freedom to be 20. This calculation is simply one less than the number of observations. 21 -1 = 20 "
      ],
      "metadata": {
        "id": "K50tuyQqfBl2"
      }
    },
    {
      "cell_type": "code",
      "source": [
        "deg_freedom = len(df) -1\n",
        "deg_freedom"
      ],
      "metadata": {
        "colab": {
          "base_uri": "https://localhost:8080/"
        },
        "id": "Hf-Nj19pfDr0",
        "outputId": "e67ac737-b72b-4f24-8be5-7e7c0ee43540"
      },
      "execution_count": 18,
      "outputs": [
        {
          "output_type": "execute_result",
          "data": {
            "text/plain": [
              "20"
            ]
          },
          "metadata": {},
          "execution_count": 18
        }
      ]
    },
    {
      "cell_type": "markdown",
      "source": [
        "#f)\n",
        "This is the sample mean as our data is a sample of the entire population of users. This is the mean that was used to find the CI. "
      ],
      "metadata": {
        "id": "j5FdSZhNfKk0"
      }
    },
    {
      "cell_type": "code",
      "source": [
        "df['time'].mean()"
      ],
      "metadata": {
        "colab": {
          "base_uri": "https://localhost:8080/"
        },
        "id": "S-jPCFUscOxw",
        "outputId": "15c6d50f-9889-4c25-8988-b70fcad6ced3"
      },
      "execution_count": 19,
      "outputs": [
        {
          "output_type": "execute_result",
          "data": {
            "text/plain": [
              "1.4457142857142857"
            ]
          },
          "metadata": {},
          "execution_count": 19
        }
      ]
    },
    {
      "cell_type": "code",
      "source": [],
      "metadata": {
        "id": "dbX_UL0wtkPO"
      },
      "execution_count": null,
      "outputs": []
    }
  ]
}