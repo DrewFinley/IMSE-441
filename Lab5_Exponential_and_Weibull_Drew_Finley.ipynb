{
  "nbformat": 4,
  "nbformat_minor": 0,
  "metadata": {
    "colab": {
      "provenance": [],
      "authorship_tag": "ABX9TyMjJOXV2lW4BuL3zUOKa4yz",
      "include_colab_link": true
    },
    "kernelspec": {
      "name": "python3",
      "display_name": "Python 3"
    },
    "language_info": {
      "name": "python"
    }
  },
  "cells": [
    {
      "cell_type": "markdown",
      "metadata": {
        "id": "view-in-github",
        "colab_type": "text"
      },
      "source": [
        "<a href=\"https://colab.research.google.com/github/DrewFinley/IMSE-441/blob/main/Lab5_Exponential_and_Weibull_Drew_Finley.ipynb\" target=\"_parent\"><img src=\"https://colab.research.google.com/assets/colab-badge.svg\" alt=\"Open In Colab\"/></a>"
      ]
    },
    {
      "cell_type": "code",
      "execution_count": 1,
      "metadata": {
        "id": "sj1Cg2kZwe7d"
      },
      "outputs": [],
      "source": [
        "import numpy as np\n",
        "import seaborn as sns\n",
        "from scipy.stats import expon\n",
        "from scipy.stats import weibull_min"
      ]
    },
    {
      "cell_type": "markdown",
      "source": [
        "# 4.7.8"
      ],
      "metadata": {
        "id": "L8jWyG05EAPZ"
      }
    },
    {
      "cell_type": "code",
      "source": [
        "\n",
        "# a)\n",
        "p10=1-expon.cdf(x=10,scale=5)\n",
        "p10"
      ],
      "metadata": {
        "colab": {
          "base_uri": "https://localhost:8080/"
        },
        "id": "rO7gK_IExuOr",
        "outputId": "dd5e5f32-08e9-4cc2-ce95-7318ba0834fe"
      },
      "execution_count": 2,
      "outputs": [
        {
          "output_type": "execute_result",
          "data": {
            "text/plain": [
              "0.1353352832366127"
            ]
          },
          "metadata": {},
          "execution_count": 2
        }
      ]
    },
    {
      "cell_type": "code",
      "source": [
        "#b)\n",
        "prob_two_cracks = 1 -(expon.cdf(10, scale=5) - expon.cdf(0, scale=5) -  (1 - expon.cdf(10 - 5, scale=5)) * (1 - expon.cdf(5, scale=5)))\n",
        "prob_two_cracks\n"
      ],
      "metadata": {
        "colab": {
          "base_uri": "https://localhost:8080/"
        },
        "id": "hLSe1Hzqrsc2",
        "outputId": "d214c186-888e-41cc-f048-a38d52e68dba"
      },
      "execution_count": 3,
      "outputs": [
        {
          "output_type": "execute_result",
          "data": {
            "text/plain": [
              "0.2706705664732254"
            ]
          },
          "metadata": {},
          "execution_count": 3
        }
      ]
    },
    {
      "cell_type": "code",
      "source": [
        "# c)\n",
        "#st_dev = 1/ lamda\n",
        "st_dev = 1/ (1/5)\n",
        "st_dev"
      ],
      "metadata": {
        "colab": {
          "base_uri": "https://localhost:8080/"
        },
        "id": "AdOyFQ8B9dF5",
        "outputId": "bca10443-c9d7-46e2-d471-90f1f4b0c2f6"
      },
      "execution_count": 4,
      "outputs": [
        {
          "output_type": "execute_result",
          "data": {
            "text/plain": [
              "5.0"
            ]
          },
          "metadata": {},
          "execution_count": 4
        }
      ]
    },
    {
      "cell_type": "code",
      "source": [
        "#d)\n",
        "p12 = 1 - expon.cdf(x=1/12,scale =5)\n",
        "p15 = 1 - expon.cdf(x=1/15, scale = 5)\n",
        "p15 - p12 \n"
      ],
      "metadata": {
        "colab": {
          "base_uri": "https://localhost:8080/"
        },
        "id": "uqpAvEOGBkJF",
        "outputId": "573344f9-584c-44fc-ca3b-f0ac3402d648"
      },
      "execution_count": 5,
      "outputs": [
        {
          "output_type": "execute_result",
          "data": {
            "text/plain": [
              "0.003283707985578199"
            ]
          },
          "metadata": {},
          "execution_count": 5
        }
      ]
    },
    {
      "cell_type": "code",
      "source": [
        "#e)\n",
        "# If the inspections are independent this is essentially the same as part a where a 10 mile stretch of highway has no cracks \n",
        "\n",
        "p5 = (1 - expon.cdf(x=5, scale = 5))**2\n",
        "p5"
      ],
      "metadata": {
        "colab": {
          "base_uri": "https://localhost:8080/"
        },
        "id": "0pHpxorhCnta",
        "outputId": "e3c5b28b-784e-46c1-dd0c-1402f04028b7"
      },
      "execution_count": 6,
      "outputs": [
        {
          "output_type": "execute_result",
          "data": {
            "text/plain": [
              "0.1353352832366127"
            ]
          },
          "metadata": {},
          "execution_count": 6
        }
      ]
    },
    {
      "cell_type": "code",
      "source": [
        "#f)\n",
        "# again using the memoryless property, the next 10 miles to be inspected are not impacted by the last 5 miles\n",
        "p10"
      ],
      "metadata": {
        "colab": {
          "base_uri": "https://localhost:8080/"
        },
        "id": "vtCWbWRHDZH5",
        "outputId": "2a05e8dc-765e-44fb-940a-81c00874be78"
      },
      "execution_count": 7,
      "outputs": [
        {
          "output_type": "execute_result",
          "data": {
            "text/plain": [
              "0.1353352832366127"
            ]
          },
          "metadata": {},
          "execution_count": 7
        }
      ]
    },
    {
      "cell_type": "markdown",
      "source": [
        "# 4.7.10"
      ],
      "metadata": {
        "id": "B9cNgWakEDzQ"
      }
    },
    {
      "cell_type": "code",
      "source": [
        "#a)\n",
        "p3 = 1 - expon.cdf(x = 3, scale = 1)\n",
        "p3"
      ],
      "metadata": {
        "colab": {
          "base_uri": "https://localhost:8080/"
        },
        "id": "fAzV7YCAEPoL",
        "outputId": "2887cab3-efd0-4ec5-9825-4c1fb66509b2"
      },
      "execution_count": 8,
      "outputs": [
        {
          "output_type": "execute_result",
          "data": {
            "text/plain": [
              "0.04978706836786395"
            ]
          },
          "metadata": {},
          "execution_count": 8
        }
      ]
    },
    {
      "cell_type": "code",
      "source": [
        "#b)\n",
        "intervals_30 = 1 -p3\n",
        "intervals_30 = intervals_30 ** 30\n",
        "intervals_30\n",
        "\n"
      ],
      "metadata": {
        "id": "iIBwQgSExAlO",
        "colab": {
          "base_uri": "https://localhost:8080/"
        },
        "outputId": "7b7fdc6a-3275-4dd3-d5cb-25827fb5ae31"
      },
      "execution_count": 9,
      "outputs": [
        {
          "output_type": "execute_result",
          "data": {
            "text/plain": [
              "0.21608672909888643"
            ]
          },
          "metadata": {},
          "execution_count": 9
        }
      ]
    },
    {
      "cell_type": "code",
      "source": [
        "#c)\n",
        "p=.1\n",
        "time = expon.isf(p , scale = 1)\n",
        "time"
      ],
      "metadata": {
        "colab": {
          "base_uri": "https://localhost:8080/"
        },
        "id": "Mq-MT9clTDdc",
        "outputId": "bdb483fe-97b7-4551-9e98-731da0901274"
      },
      "execution_count": 10,
      "outputs": [
        {
          "output_type": "execute_result",
          "data": {
            "text/plain": [
              "2.3025850929940455"
            ]
          },
          "metadata": {},
          "execution_count": 10
        }
      ]
    },
    {
      "cell_type": "code",
      "source": [
        "#d) use the memoryless property again\n",
        "mean = 1.5\n",
        "p_d = expon.cdf(mean, scale = mean)**2 * (1 - expon.cdf(mean, scale=mean))\n",
        "p_d"
      ],
      "metadata": {
        "colab": {
          "base_uri": "https://localhost:8080/"
        },
        "id": "MFjxSn8IT8M9",
        "outputId": "839bf96d-725d-400d-e0a7-f4677aa43fe6"
      },
      "execution_count": 11,
      "outputs": [
        {
          "output_type": "execute_result",
          "data": {
            "text/plain": [
              "0.14699594306608088"
            ]
          },
          "metadata": {},
          "execution_count": 11
        }
      ]
    },
    {
      "cell_type": "markdown",
      "source": [
        "# 4.9.7"
      ],
      "metadata": {
        "id": "Lju8lB3DXyu1"
      }
    },
    {
      "cell_type": "code",
      "source": [
        "beta = 2\n",
        "delta = 4000\n"
      ],
      "metadata": {
        "id": "lja0LdxaX315"
      },
      "execution_count": 12,
      "outputs": []
    },
    {
      "cell_type": "code",
      "source": [
        "#a)\n",
        "p5000 = 1- weibull_min.cdf(5000, beta, scale = delta)\n",
        "p5000"
      ],
      "metadata": {
        "colab": {
          "base_uri": "https://localhost:8080/"
        },
        "id": "XfNF53hBYAE3",
        "outputId": "186d0315-e137-4fd2-dad3-a50a7e430f89"
      },
      "execution_count": 13,
      "outputs": [
        {
          "output_type": "execute_result",
          "data": {
            "text/plain": [
              "0.20961138715109784"
            ]
          },
          "metadata": {},
          "execution_count": 13
        }
      ]
    },
    {
      "cell_type": "code",
      "source": [
        "#b)\n",
        "p_b = (1 - weibull_min.cdf(8000, beta, scale=delta)) / (1 - weibull_min.cdf(3000, beta, scale=delta))\n",
        "p_b"
      ],
      "metadata": {
        "colab": {
          "base_uri": "https://localhost:8080/"
        },
        "id": "6BRWGSZqZqEc",
        "outputId": "080e59e6-33db-4eea-e1e1-dfa730fddd7b"
      },
      "execution_count": 14,
      "outputs": [
        {
          "output_type": "execute_result",
          "data": {
            "text/plain": [
              "0.032144947326876144"
            ]
          },
          "metadata": {},
          "execution_count": 14
        }
      ]
    },
    {
      "cell_type": "markdown",
      "source": [
        "c) The probabilities found in parts a and b are lower than what they would be had the distribution been exponential. This is because a Weibull distribution \"remembers\" prevoious trials or earlier points. In part b, the wear and tear from the first 3000 hours has an effect on the probability the part can last more than 8000 hours. In an exponential distribution, the probability would be the same if it was the first 20 hours or 20000 hours. "
      ],
      "metadata": {
        "id": "yRcpOcgAhFKY"
      }
    },
    {
      "cell_type": "markdown",
      "source": [
        "#4.9.12"
      ],
      "metadata": {
        "id": "kTzvDNdIh0o-"
      }
    },
    {
      "cell_type": "code",
      "source": [
        "delta = 1.9137\n",
        "beta = .8472\n"
      ],
      "metadata": {
        "id": "KColiZk0h3Nh"
      },
      "execution_count": 15,
      "outputs": []
    },
    {
      "cell_type": "code",
      "source": [
        "#a)\n",
        "prob_a = 1 - weibull_min.cdf(2,beta, scale = delta)\n",
        "prob_a"
      ],
      "metadata": {
        "colab": {
          "base_uri": "https://localhost:8080/"
        },
        "id": "hYEXK9VCi2Q0",
        "outputId": "27813961-e1c2-49e2-b772-6b9bd84de9e5"
      },
      "execution_count": 16,
      "outputs": [
        {
          "output_type": "execute_result",
          "data": {
            "text/plain": [
              "0.35413544232054806"
            ]
          },
          "metadata": {},
          "execution_count": 16
        }
      ]
    },
    {
      "cell_type": "code",
      "source": [
        "#b) \n",
        "prob_b = weibull_min.cdf(4,beta, scale = delta) - weibull_min.cdf(2,beta, scale = delta)\n",
        "prob_b"
      ],
      "metadata": {
        "colab": {
          "base_uri": "https://localhost:8080/"
        },
        "id": "sSLXpk_FjZeS",
        "outputId": "c347bc58-0053-43d7-9b2d-b42967c6e659"
      },
      "execution_count": 17,
      "outputs": [
        {
          "output_type": "execute_result",
          "data": {
            "text/plain": [
              "0.1996267086111222"
            ]
          },
          "metadata": {},
          "execution_count": 17
        }
      ]
    },
    {
      "cell_type": "code",
      "source": [
        "#c)\n",
        "p = 0.05\n",
        "point = weibull_min.ppf(1-p, delta, scale=beta)\n",
        "point"
      ],
      "metadata": {
        "colab": {
          "base_uri": "https://localhost:8080/"
        },
        "id": "qgx5zOGkj_lK",
        "outputId": "6cdc8fc0-648f-4ed9-9491-64a9650a09bf"
      },
      "execution_count": 18,
      "outputs": [
        {
          "output_type": "execute_result",
          "data": {
            "text/plain": [
              "1.5030783141144697"
            ]
          },
          "metadata": {},
          "execution_count": 18
        }
      ]
    },
    {
      "cell_type": "code",
      "source": [
        "#d)\n",
        "m= weibull_min.mean(c=beta,scale=delta)\n",
        "s=weibull_min.std(c=beta,scale=delta)\n",
        "print('Mean = ', m, 'Standard Deviation = ',s)\n",
        "     "
      ],
      "metadata": {
        "colab": {
          "base_uri": "https://localhost:8080/"
        },
        "id": "_3auC5fBj_nl",
        "outputId": "cfd83ca7-da0c-4ebf-95d5-71fbfb38ee78"
      },
      "execution_count": 22,
      "outputs": [
        {
          "output_type": "stream",
          "name": "stdout",
          "text": [
            "Mean =  2.0863296339911748 Standard Deviation =  2.4736009536099828\n"
          ]
        }
      ]
    }
  ]
}