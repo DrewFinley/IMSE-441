{
  "nbformat": 4,
  "nbformat_minor": 0,
  "metadata": {
    "colab": {
      "provenance": [],
      "mount_file_id": "1n7pOIFOWPrFz_TWXrXi2ET9qHL-sU2fz",
      "authorship_tag": "ABX9TyNwEDS1SlprWjzykmMGI08S",
      "include_colab_link": true
    },
    "kernelspec": {
      "name": "python3",
      "display_name": "Python 3"
    },
    "language_info": {
      "name": "python"
    }
  },
  "cells": [
    {
      "cell_type": "markdown",
      "metadata": {
        "id": "view-in-github",
        "colab_type": "text"
      },
      "source": [
        "<a href=\"https://colab.research.google.com/github/DrewFinley/IMSE-441/blob/main/Lab_2.ipynb\" target=\"_parent\"><img src=\"https://colab.research.google.com/assets/colab-badge.svg\" alt=\"Open In Colab\"/></a>"
      ]
    },
    {
      "cell_type": "code",
      "execution_count": 1,
      "metadata": {
        "id": "chD6ztwg5iDe"
      },
      "outputs": [],
      "source": [
        "import math\n",
        "import statistics\n",
        "import numpy as np\n",
        "import pandas as pd\n",
        "import matplotlib.pyplot as plt\n"
      ]
    },
    {
      "cell_type": "code",
      "source": [
        "from google.colab import drive\n",
        "drive.mount('/content/drive')\n",
        "df = pd.read_csv('/content/drive/MyDrive/IMSE 441/Lab_2.csv', sep=',', na_values=\".\", encoding='cp1252')\n",
        "df "
      ],
      "metadata": {
        "colab": {
          "base_uri": "https://localhost:8080/",
          "height": 1000
        },
        "id": "JC77hvWs5vsL",
        "outputId": "b49c54e6-e366-4efc-8ac9-f1620552137f"
      },
      "execution_count": 2,
      "outputs": [
        {
          "output_type": "stream",
          "name": "stdout",
          "text": [
            "Drive already mounted at /content/drive; to attempt to forcibly remount, call drive.mount(\"/content/drive\", force_remount=True).\n"
          ]
        },
        {
          "output_type": "execute_result",
          "data": {
            "text/plain": [
              "    Cement  Water  Coarse_Aggregate  Fine_Aggregate  Age   Strength\n",
              "0    540.0    162            1040.0           676.0   28  79.986111\n",
              "1    540.0    162            1055.0           676.0   28  61.887366\n",
              "2    332.5    228             932.0           594.0  270  40.269535\n",
              "3    332.5    228             932.0           594.0  365  41.052780\n",
              "4    198.6    192             978.4           825.5  360  44.296075\n",
              "5    266.0    228             932.0           670.0   90  47.029847\n",
              "6    380.0    228             932.0           594.0  365  43.698299\n",
              "7    380.0    228             932.0           594.0   28  36.447770\n",
              "8    266.0    228             932.0           670.0   28  45.854291\n",
              "9    475.0    228             932.0           594.0   28  39.289790\n",
              "10   198.6    192             978.4           825.5   90  38.074244\n",
              "11   198.6    192             978.4           825.5   28  28.021684\n",
              "12   427.5    228             932.0           594.0  270  43.012960\n",
              "13   190.0    228             932.0           670.0   90  42.326932\n",
              "14   304.0    228             932.0           670.0   28  47.813782\n",
              "15   380.0    228             932.0           670.0   90  52.908320\n",
              "16   139.6    192            1047.0           806.9   90  39.358048\n",
              "17   342.0    228             932.0           670.0  365  56.141962\n",
              "18   380.0    228             932.0           594.0   90  40.563252\n",
              "19   475.0    228             932.0           594.0  180  42.620648\n",
              "20   427.5    228             932.0           594.0  180  41.836714\n",
              "21   139.6    192            1047.0           806.9   28  28.237490\n",
              "22   139.6    192            1047.0           806.9    3   8.063422\n",
              "23   139.6    192            1047.0           806.9  180  44.207822\n",
              "24   380.0    228             932.0           670.0  365  52.516697\n",
              "25   380.0    228             932.0           670.0  270  53.300632\n",
              "26   380.0    228             932.0           594.0  270  41.151375\n",
              "27   342.0    228             932.0           670.0  180  52.124386\n",
              "28   427.5    228             932.0           594.0   28  37.427515\n",
              "29   475.0    228             932.0           594.0    7  38.603761\n",
              "30   304.0    228             932.0           670.0  365  55.260122\n",
              "31   266.0    228             932.0           670.0  365  52.908320\n",
              "32   198.6    192             978.4           825.5  180  41.719503\n",
              "33   475.0    228             932.0           594.0  270  42.131120\n",
              "34   190.0    228             932.0           670.0  365  53.692254\n",
              "35   237.5    228             932.0           594.0  270  38.407950\n",
              "36   237.5    228             932.0           594.0   28  30.079769\n",
              "37   332.5    228             932.0           594.0   90  37.721921\n",
              "38   475.0    228             932.0           594.0   90  42.229026\n",
              "39   237.5    228             932.0           594.0  180  36.251959"
            ],
            "text/html": [
              "\n",
              "  <div id=\"df-9c1c1289-b62f-49d2-825d-2a0746b22cde\">\n",
              "    <div class=\"colab-df-container\">\n",
              "      <div>\n",
              "<style scoped>\n",
              "    .dataframe tbody tr th:only-of-type {\n",
              "        vertical-align: middle;\n",
              "    }\n",
              "\n",
              "    .dataframe tbody tr th {\n",
              "        vertical-align: top;\n",
              "    }\n",
              "\n",
              "    .dataframe thead th {\n",
              "        text-align: right;\n",
              "    }\n",
              "</style>\n",
              "<table border=\"1\" class=\"dataframe\">\n",
              "  <thead>\n",
              "    <tr style=\"text-align: right;\">\n",
              "      <th></th>\n",
              "      <th>Cement</th>\n",
              "      <th>Water</th>\n",
              "      <th>Coarse_Aggregate</th>\n",
              "      <th>Fine_Aggregate</th>\n",
              "      <th>Age</th>\n",
              "      <th>Strength</th>\n",
              "    </tr>\n",
              "  </thead>\n",
              "  <tbody>\n",
              "    <tr>\n",
              "      <th>0</th>\n",
              "      <td>540.0</td>\n",
              "      <td>162</td>\n",
              "      <td>1040.0</td>\n",
              "      <td>676.0</td>\n",
              "      <td>28</td>\n",
              "      <td>79.986111</td>\n",
              "    </tr>\n",
              "    <tr>\n",
              "      <th>1</th>\n",
              "      <td>540.0</td>\n",
              "      <td>162</td>\n",
              "      <td>1055.0</td>\n",
              "      <td>676.0</td>\n",
              "      <td>28</td>\n",
              "      <td>61.887366</td>\n",
              "    </tr>\n",
              "    <tr>\n",
              "      <th>2</th>\n",
              "      <td>332.5</td>\n",
              "      <td>228</td>\n",
              "      <td>932.0</td>\n",
              "      <td>594.0</td>\n",
              "      <td>270</td>\n",
              "      <td>40.269535</td>\n",
              "    </tr>\n",
              "    <tr>\n",
              "      <th>3</th>\n",
              "      <td>332.5</td>\n",
              "      <td>228</td>\n",
              "      <td>932.0</td>\n",
              "      <td>594.0</td>\n",
              "      <td>365</td>\n",
              "      <td>41.052780</td>\n",
              "    </tr>\n",
              "    <tr>\n",
              "      <th>4</th>\n",
              "      <td>198.6</td>\n",
              "      <td>192</td>\n",
              "      <td>978.4</td>\n",
              "      <td>825.5</td>\n",
              "      <td>360</td>\n",
              "      <td>44.296075</td>\n",
              "    </tr>\n",
              "    <tr>\n",
              "      <th>5</th>\n",
              "      <td>266.0</td>\n",
              "      <td>228</td>\n",
              "      <td>932.0</td>\n",
              "      <td>670.0</td>\n",
              "      <td>90</td>\n",
              "      <td>47.029847</td>\n",
              "    </tr>\n",
              "    <tr>\n",
              "      <th>6</th>\n",
              "      <td>380.0</td>\n",
              "      <td>228</td>\n",
              "      <td>932.0</td>\n",
              "      <td>594.0</td>\n",
              "      <td>365</td>\n",
              "      <td>43.698299</td>\n",
              "    </tr>\n",
              "    <tr>\n",
              "      <th>7</th>\n",
              "      <td>380.0</td>\n",
              "      <td>228</td>\n",
              "      <td>932.0</td>\n",
              "      <td>594.0</td>\n",
              "      <td>28</td>\n",
              "      <td>36.447770</td>\n",
              "    </tr>\n",
              "    <tr>\n",
              "      <th>8</th>\n",
              "      <td>266.0</td>\n",
              "      <td>228</td>\n",
              "      <td>932.0</td>\n",
              "      <td>670.0</td>\n",
              "      <td>28</td>\n",
              "      <td>45.854291</td>\n",
              "    </tr>\n",
              "    <tr>\n",
              "      <th>9</th>\n",
              "      <td>475.0</td>\n",
              "      <td>228</td>\n",
              "      <td>932.0</td>\n",
              "      <td>594.0</td>\n",
              "      <td>28</td>\n",
              "      <td>39.289790</td>\n",
              "    </tr>\n",
              "    <tr>\n",
              "      <th>10</th>\n",
              "      <td>198.6</td>\n",
              "      <td>192</td>\n",
              "      <td>978.4</td>\n",
              "      <td>825.5</td>\n",
              "      <td>90</td>\n",
              "      <td>38.074244</td>\n",
              "    </tr>\n",
              "    <tr>\n",
              "      <th>11</th>\n",
              "      <td>198.6</td>\n",
              "      <td>192</td>\n",
              "      <td>978.4</td>\n",
              "      <td>825.5</td>\n",
              "      <td>28</td>\n",
              "      <td>28.021684</td>\n",
              "    </tr>\n",
              "    <tr>\n",
              "      <th>12</th>\n",
              "      <td>427.5</td>\n",
              "      <td>228</td>\n",
              "      <td>932.0</td>\n",
              "      <td>594.0</td>\n",
              "      <td>270</td>\n",
              "      <td>43.012960</td>\n",
              "    </tr>\n",
              "    <tr>\n",
              "      <th>13</th>\n",
              "      <td>190.0</td>\n",
              "      <td>228</td>\n",
              "      <td>932.0</td>\n",
              "      <td>670.0</td>\n",
              "      <td>90</td>\n",
              "      <td>42.326932</td>\n",
              "    </tr>\n",
              "    <tr>\n",
              "      <th>14</th>\n",
              "      <td>304.0</td>\n",
              "      <td>228</td>\n",
              "      <td>932.0</td>\n",
              "      <td>670.0</td>\n",
              "      <td>28</td>\n",
              "      <td>47.813782</td>\n",
              "    </tr>\n",
              "    <tr>\n",
              "      <th>15</th>\n",
              "      <td>380.0</td>\n",
              "      <td>228</td>\n",
              "      <td>932.0</td>\n",
              "      <td>670.0</td>\n",
              "      <td>90</td>\n",
              "      <td>52.908320</td>\n",
              "    </tr>\n",
              "    <tr>\n",
              "      <th>16</th>\n",
              "      <td>139.6</td>\n",
              "      <td>192</td>\n",
              "      <td>1047.0</td>\n",
              "      <td>806.9</td>\n",
              "      <td>90</td>\n",
              "      <td>39.358048</td>\n",
              "    </tr>\n",
              "    <tr>\n",
              "      <th>17</th>\n",
              "      <td>342.0</td>\n",
              "      <td>228</td>\n",
              "      <td>932.0</td>\n",
              "      <td>670.0</td>\n",
              "      <td>365</td>\n",
              "      <td>56.141962</td>\n",
              "    </tr>\n",
              "    <tr>\n",
              "      <th>18</th>\n",
              "      <td>380.0</td>\n",
              "      <td>228</td>\n",
              "      <td>932.0</td>\n",
              "      <td>594.0</td>\n",
              "      <td>90</td>\n",
              "      <td>40.563252</td>\n",
              "    </tr>\n",
              "    <tr>\n",
              "      <th>19</th>\n",
              "      <td>475.0</td>\n",
              "      <td>228</td>\n",
              "      <td>932.0</td>\n",
              "      <td>594.0</td>\n",
              "      <td>180</td>\n",
              "      <td>42.620648</td>\n",
              "    </tr>\n",
              "    <tr>\n",
              "      <th>20</th>\n",
              "      <td>427.5</td>\n",
              "      <td>228</td>\n",
              "      <td>932.0</td>\n",
              "      <td>594.0</td>\n",
              "      <td>180</td>\n",
              "      <td>41.836714</td>\n",
              "    </tr>\n",
              "    <tr>\n",
              "      <th>21</th>\n",
              "      <td>139.6</td>\n",
              "      <td>192</td>\n",
              "      <td>1047.0</td>\n",
              "      <td>806.9</td>\n",
              "      <td>28</td>\n",
              "      <td>28.237490</td>\n",
              "    </tr>\n",
              "    <tr>\n",
              "      <th>22</th>\n",
              "      <td>139.6</td>\n",
              "      <td>192</td>\n",
              "      <td>1047.0</td>\n",
              "      <td>806.9</td>\n",
              "      <td>3</td>\n",
              "      <td>8.063422</td>\n",
              "    </tr>\n",
              "    <tr>\n",
              "      <th>23</th>\n",
              "      <td>139.6</td>\n",
              "      <td>192</td>\n",
              "      <td>1047.0</td>\n",
              "      <td>806.9</td>\n",
              "      <td>180</td>\n",
              "      <td>44.207822</td>\n",
              "    </tr>\n",
              "    <tr>\n",
              "      <th>24</th>\n",
              "      <td>380.0</td>\n",
              "      <td>228</td>\n",
              "      <td>932.0</td>\n",
              "      <td>670.0</td>\n",
              "      <td>365</td>\n",
              "      <td>52.516697</td>\n",
              "    </tr>\n",
              "    <tr>\n",
              "      <th>25</th>\n",
              "      <td>380.0</td>\n",
              "      <td>228</td>\n",
              "      <td>932.0</td>\n",
              "      <td>670.0</td>\n",
              "      <td>270</td>\n",
              "      <td>53.300632</td>\n",
              "    </tr>\n",
              "    <tr>\n",
              "      <th>26</th>\n",
              "      <td>380.0</td>\n",
              "      <td>228</td>\n",
              "      <td>932.0</td>\n",
              "      <td>594.0</td>\n",
              "      <td>270</td>\n",
              "      <td>41.151375</td>\n",
              "    </tr>\n",
              "    <tr>\n",
              "      <th>27</th>\n",
              "      <td>342.0</td>\n",
              "      <td>228</td>\n",
              "      <td>932.0</td>\n",
              "      <td>670.0</td>\n",
              "      <td>180</td>\n",
              "      <td>52.124386</td>\n",
              "    </tr>\n",
              "    <tr>\n",
              "      <th>28</th>\n",
              "      <td>427.5</td>\n",
              "      <td>228</td>\n",
              "      <td>932.0</td>\n",
              "      <td>594.0</td>\n",
              "      <td>28</td>\n",
              "      <td>37.427515</td>\n",
              "    </tr>\n",
              "    <tr>\n",
              "      <th>29</th>\n",
              "      <td>475.0</td>\n",
              "      <td>228</td>\n",
              "      <td>932.0</td>\n",
              "      <td>594.0</td>\n",
              "      <td>7</td>\n",
              "      <td>38.603761</td>\n",
              "    </tr>\n",
              "    <tr>\n",
              "      <th>30</th>\n",
              "      <td>304.0</td>\n",
              "      <td>228</td>\n",
              "      <td>932.0</td>\n",
              "      <td>670.0</td>\n",
              "      <td>365</td>\n",
              "      <td>55.260122</td>\n",
              "    </tr>\n",
              "    <tr>\n",
              "      <th>31</th>\n",
              "      <td>266.0</td>\n",
              "      <td>228</td>\n",
              "      <td>932.0</td>\n",
              "      <td>670.0</td>\n",
              "      <td>365</td>\n",
              "      <td>52.908320</td>\n",
              "    </tr>\n",
              "    <tr>\n",
              "      <th>32</th>\n",
              "      <td>198.6</td>\n",
              "      <td>192</td>\n",
              "      <td>978.4</td>\n",
              "      <td>825.5</td>\n",
              "      <td>180</td>\n",
              "      <td>41.719503</td>\n",
              "    </tr>\n",
              "    <tr>\n",
              "      <th>33</th>\n",
              "      <td>475.0</td>\n",
              "      <td>228</td>\n",
              "      <td>932.0</td>\n",
              "      <td>594.0</td>\n",
              "      <td>270</td>\n",
              "      <td>42.131120</td>\n",
              "    </tr>\n",
              "    <tr>\n",
              "      <th>34</th>\n",
              "      <td>190.0</td>\n",
              "      <td>228</td>\n",
              "      <td>932.0</td>\n",
              "      <td>670.0</td>\n",
              "      <td>365</td>\n",
              "      <td>53.692254</td>\n",
              "    </tr>\n",
              "    <tr>\n",
              "      <th>35</th>\n",
              "      <td>237.5</td>\n",
              "      <td>228</td>\n",
              "      <td>932.0</td>\n",
              "      <td>594.0</td>\n",
              "      <td>270</td>\n",
              "      <td>38.407950</td>\n",
              "    </tr>\n",
              "    <tr>\n",
              "      <th>36</th>\n",
              "      <td>237.5</td>\n",
              "      <td>228</td>\n",
              "      <td>932.0</td>\n",
              "      <td>594.0</td>\n",
              "      <td>28</td>\n",
              "      <td>30.079769</td>\n",
              "    </tr>\n",
              "    <tr>\n",
              "      <th>37</th>\n",
              "      <td>332.5</td>\n",
              "      <td>228</td>\n",
              "      <td>932.0</td>\n",
              "      <td>594.0</td>\n",
              "      <td>90</td>\n",
              "      <td>37.721921</td>\n",
              "    </tr>\n",
              "    <tr>\n",
              "      <th>38</th>\n",
              "      <td>475.0</td>\n",
              "      <td>228</td>\n",
              "      <td>932.0</td>\n",
              "      <td>594.0</td>\n",
              "      <td>90</td>\n",
              "      <td>42.229026</td>\n",
              "    </tr>\n",
              "    <tr>\n",
              "      <th>39</th>\n",
              "      <td>237.5</td>\n",
              "      <td>228</td>\n",
              "      <td>932.0</td>\n",
              "      <td>594.0</td>\n",
              "      <td>180</td>\n",
              "      <td>36.251959</td>\n",
              "    </tr>\n",
              "  </tbody>\n",
              "</table>\n",
              "</div>\n",
              "      <button class=\"colab-df-convert\" onclick=\"convertToInteractive('df-9c1c1289-b62f-49d2-825d-2a0746b22cde')\"\n",
              "              title=\"Convert this dataframe to an interactive table.\"\n",
              "              style=\"display:none;\">\n",
              "        \n",
              "  <svg xmlns=\"http://www.w3.org/2000/svg\" height=\"24px\"viewBox=\"0 0 24 24\"\n",
              "       width=\"24px\">\n",
              "    <path d=\"M0 0h24v24H0V0z\" fill=\"none\"/>\n",
              "    <path d=\"M18.56 5.44l.94 2.06.94-2.06 2.06-.94-2.06-.94-.94-2.06-.94 2.06-2.06.94zm-11 1L8.5 8.5l.94-2.06 2.06-.94-2.06-.94L8.5 2.5l-.94 2.06-2.06.94zm10 10l.94 2.06.94-2.06 2.06-.94-2.06-.94-.94-2.06-.94 2.06-2.06.94z\"/><path d=\"M17.41 7.96l-1.37-1.37c-.4-.4-.92-.59-1.43-.59-.52 0-1.04.2-1.43.59L10.3 9.45l-7.72 7.72c-.78.78-.78 2.05 0 2.83L4 21.41c.39.39.9.59 1.41.59.51 0 1.02-.2 1.41-.59l7.78-7.78 2.81-2.81c.8-.78.8-2.07 0-2.86zM5.41 20L4 18.59l7.72-7.72 1.47 1.35L5.41 20z\"/>\n",
              "  </svg>\n",
              "      </button>\n",
              "      \n",
              "  <style>\n",
              "    .colab-df-container {\n",
              "      display:flex;\n",
              "      flex-wrap:wrap;\n",
              "      gap: 12px;\n",
              "    }\n",
              "\n",
              "    .colab-df-convert {\n",
              "      background-color: #E8F0FE;\n",
              "      border: none;\n",
              "      border-radius: 50%;\n",
              "      cursor: pointer;\n",
              "      display: none;\n",
              "      fill: #1967D2;\n",
              "      height: 32px;\n",
              "      padding: 0 0 0 0;\n",
              "      width: 32px;\n",
              "    }\n",
              "\n",
              "    .colab-df-convert:hover {\n",
              "      background-color: #E2EBFA;\n",
              "      box-shadow: 0px 1px 2px rgba(60, 64, 67, 0.3), 0px 1px 3px 1px rgba(60, 64, 67, 0.15);\n",
              "      fill: #174EA6;\n",
              "    }\n",
              "\n",
              "    [theme=dark] .colab-df-convert {\n",
              "      background-color: #3B4455;\n",
              "      fill: #D2E3FC;\n",
              "    }\n",
              "\n",
              "    [theme=dark] .colab-df-convert:hover {\n",
              "      background-color: #434B5C;\n",
              "      box-shadow: 0px 1px 3px 1px rgba(0, 0, 0, 0.15);\n",
              "      filter: drop-shadow(0px 1px 2px rgba(0, 0, 0, 0.3));\n",
              "      fill: #FFFFFF;\n",
              "    }\n",
              "  </style>\n",
              "\n",
              "      <script>\n",
              "        const buttonEl =\n",
              "          document.querySelector('#df-9c1c1289-b62f-49d2-825d-2a0746b22cde button.colab-df-convert');\n",
              "        buttonEl.style.display =\n",
              "          google.colab.kernel.accessAllowed ? 'block' : 'none';\n",
              "\n",
              "        async function convertToInteractive(key) {\n",
              "          const element = document.querySelector('#df-9c1c1289-b62f-49d2-825d-2a0746b22cde');\n",
              "          const dataTable =\n",
              "            await google.colab.kernel.invokeFunction('convertToInteractive',\n",
              "                                                     [key], {});\n",
              "          if (!dataTable) return;\n",
              "\n",
              "          const docLinkHtml = 'Like what you see? Visit the ' +\n",
              "            '<a target=\"_blank\" href=https://colab.research.google.com/notebooks/data_table.ipynb>data table notebook</a>'\n",
              "            + ' to learn more about interactive tables.';\n",
              "          element.innerHTML = '';\n",
              "          dataTable['output_type'] = 'display_data';\n",
              "          await google.colab.output.renderOutput(dataTable, element);\n",
              "          const docLink = document.createElement('div');\n",
              "          docLink.innerHTML = docLinkHtml;\n",
              "          element.appendChild(docLink);\n",
              "        }\n",
              "      </script>\n",
              "    </div>\n",
              "  </div>\n",
              "  "
            ]
          },
          "metadata": {},
          "execution_count": 2
        }
      ]
    },
    {
      "cell_type": "markdown",
      "source": [
        "# Question 1"
      ],
      "metadata": {
        "id": "I-JX6rfks37u"
      }
    },
    {
      "cell_type": "code",
      "source": [
        "df.describe()"
      ],
      "metadata": {
        "colab": {
          "base_uri": "https://localhost:8080/",
          "height": 300
        },
        "id": "HqlbvB0K6FWJ",
        "outputId": "fefa319e-b193-490e-80d6-23bbf80c2b70"
      },
      "execution_count": 3,
      "outputs": [
        {
          "output_type": "execute_result",
          "data": {
            "text/plain": [
              "           Cement       Water  Coarse_Aggregate  Fine_Aggregate         Age  \\\n",
              "count   40.000000   40.000000         40.000000       40.000000   40.000000   \n",
              "mean   323.257500  217.500000        953.915000      665.340000  165.625000   \n",
              "std    116.620498   19.394686         42.090912       83.950354  131.012563   \n",
              "min    139.600000  162.000000        932.000000      594.000000    3.000000   \n",
              "25%    227.775000  219.000000        932.000000      594.000000   28.000000   \n",
              "50%    332.500000  228.000000        932.000000      670.000000  135.000000   \n",
              "75%    391.875000  228.000000        943.600000      671.500000  270.000000   \n",
              "max    540.000000  228.000000       1055.000000      825.500000  365.000000   \n",
              "\n",
              "        Strength  \n",
              "count  40.000000  \n",
              "mean   43.463136  \n",
              "std    11.065465  \n",
              "min     8.063422  \n",
              "25%    38.554808  \n",
              "50%    42.180073  \n",
              "75%    48.891433  \n",
              "max    79.986111  "
            ],
            "text/html": [
              "\n",
              "  <div id=\"df-7c390437-dfb8-44aa-b181-f234d565951d\">\n",
              "    <div class=\"colab-df-container\">\n",
              "      <div>\n",
              "<style scoped>\n",
              "    .dataframe tbody tr th:only-of-type {\n",
              "        vertical-align: middle;\n",
              "    }\n",
              "\n",
              "    .dataframe tbody tr th {\n",
              "        vertical-align: top;\n",
              "    }\n",
              "\n",
              "    .dataframe thead th {\n",
              "        text-align: right;\n",
              "    }\n",
              "</style>\n",
              "<table border=\"1\" class=\"dataframe\">\n",
              "  <thead>\n",
              "    <tr style=\"text-align: right;\">\n",
              "      <th></th>\n",
              "      <th>Cement</th>\n",
              "      <th>Water</th>\n",
              "      <th>Coarse_Aggregate</th>\n",
              "      <th>Fine_Aggregate</th>\n",
              "      <th>Age</th>\n",
              "      <th>Strength</th>\n",
              "    </tr>\n",
              "  </thead>\n",
              "  <tbody>\n",
              "    <tr>\n",
              "      <th>count</th>\n",
              "      <td>40.000000</td>\n",
              "      <td>40.000000</td>\n",
              "      <td>40.000000</td>\n",
              "      <td>40.000000</td>\n",
              "      <td>40.000000</td>\n",
              "      <td>40.000000</td>\n",
              "    </tr>\n",
              "    <tr>\n",
              "      <th>mean</th>\n",
              "      <td>323.257500</td>\n",
              "      <td>217.500000</td>\n",
              "      <td>953.915000</td>\n",
              "      <td>665.340000</td>\n",
              "      <td>165.625000</td>\n",
              "      <td>43.463136</td>\n",
              "    </tr>\n",
              "    <tr>\n",
              "      <th>std</th>\n",
              "      <td>116.620498</td>\n",
              "      <td>19.394686</td>\n",
              "      <td>42.090912</td>\n",
              "      <td>83.950354</td>\n",
              "      <td>131.012563</td>\n",
              "      <td>11.065465</td>\n",
              "    </tr>\n",
              "    <tr>\n",
              "      <th>min</th>\n",
              "      <td>139.600000</td>\n",
              "      <td>162.000000</td>\n",
              "      <td>932.000000</td>\n",
              "      <td>594.000000</td>\n",
              "      <td>3.000000</td>\n",
              "      <td>8.063422</td>\n",
              "    </tr>\n",
              "    <tr>\n",
              "      <th>25%</th>\n",
              "      <td>227.775000</td>\n",
              "      <td>219.000000</td>\n",
              "      <td>932.000000</td>\n",
              "      <td>594.000000</td>\n",
              "      <td>28.000000</td>\n",
              "      <td>38.554808</td>\n",
              "    </tr>\n",
              "    <tr>\n",
              "      <th>50%</th>\n",
              "      <td>332.500000</td>\n",
              "      <td>228.000000</td>\n",
              "      <td>932.000000</td>\n",
              "      <td>670.000000</td>\n",
              "      <td>135.000000</td>\n",
              "      <td>42.180073</td>\n",
              "    </tr>\n",
              "    <tr>\n",
              "      <th>75%</th>\n",
              "      <td>391.875000</td>\n",
              "      <td>228.000000</td>\n",
              "      <td>943.600000</td>\n",
              "      <td>671.500000</td>\n",
              "      <td>270.000000</td>\n",
              "      <td>48.891433</td>\n",
              "    </tr>\n",
              "    <tr>\n",
              "      <th>max</th>\n",
              "      <td>540.000000</td>\n",
              "      <td>228.000000</td>\n",
              "      <td>1055.000000</td>\n",
              "      <td>825.500000</td>\n",
              "      <td>365.000000</td>\n",
              "      <td>79.986111</td>\n",
              "    </tr>\n",
              "  </tbody>\n",
              "</table>\n",
              "</div>\n",
              "      <button class=\"colab-df-convert\" onclick=\"convertToInteractive('df-7c390437-dfb8-44aa-b181-f234d565951d')\"\n",
              "              title=\"Convert this dataframe to an interactive table.\"\n",
              "              style=\"display:none;\">\n",
              "        \n",
              "  <svg xmlns=\"http://www.w3.org/2000/svg\" height=\"24px\"viewBox=\"0 0 24 24\"\n",
              "       width=\"24px\">\n",
              "    <path d=\"M0 0h24v24H0V0z\" fill=\"none\"/>\n",
              "    <path d=\"M18.56 5.44l.94 2.06.94-2.06 2.06-.94-2.06-.94-.94-2.06-.94 2.06-2.06.94zm-11 1L8.5 8.5l.94-2.06 2.06-.94-2.06-.94L8.5 2.5l-.94 2.06-2.06.94zm10 10l.94 2.06.94-2.06 2.06-.94-2.06-.94-.94-2.06-.94 2.06-2.06.94z\"/><path d=\"M17.41 7.96l-1.37-1.37c-.4-.4-.92-.59-1.43-.59-.52 0-1.04.2-1.43.59L10.3 9.45l-7.72 7.72c-.78.78-.78 2.05 0 2.83L4 21.41c.39.39.9.59 1.41.59.51 0 1.02-.2 1.41-.59l7.78-7.78 2.81-2.81c.8-.78.8-2.07 0-2.86zM5.41 20L4 18.59l7.72-7.72 1.47 1.35L5.41 20z\"/>\n",
              "  </svg>\n",
              "      </button>\n",
              "      \n",
              "  <style>\n",
              "    .colab-df-container {\n",
              "      display:flex;\n",
              "      flex-wrap:wrap;\n",
              "      gap: 12px;\n",
              "    }\n",
              "\n",
              "    .colab-df-convert {\n",
              "      background-color: #E8F0FE;\n",
              "      border: none;\n",
              "      border-radius: 50%;\n",
              "      cursor: pointer;\n",
              "      display: none;\n",
              "      fill: #1967D2;\n",
              "      height: 32px;\n",
              "      padding: 0 0 0 0;\n",
              "      width: 32px;\n",
              "    }\n",
              "\n",
              "    .colab-df-convert:hover {\n",
              "      background-color: #E2EBFA;\n",
              "      box-shadow: 0px 1px 2px rgba(60, 64, 67, 0.3), 0px 1px 3px 1px rgba(60, 64, 67, 0.15);\n",
              "      fill: #174EA6;\n",
              "    }\n",
              "\n",
              "    [theme=dark] .colab-df-convert {\n",
              "      background-color: #3B4455;\n",
              "      fill: #D2E3FC;\n",
              "    }\n",
              "\n",
              "    [theme=dark] .colab-df-convert:hover {\n",
              "      background-color: #434B5C;\n",
              "      box-shadow: 0px 1px 3px 1px rgba(0, 0, 0, 0.15);\n",
              "      filter: drop-shadow(0px 1px 2px rgba(0, 0, 0, 0.3));\n",
              "      fill: #FFFFFF;\n",
              "    }\n",
              "  </style>\n",
              "\n",
              "      <script>\n",
              "        const buttonEl =\n",
              "          document.querySelector('#df-7c390437-dfb8-44aa-b181-f234d565951d button.colab-df-convert');\n",
              "        buttonEl.style.display =\n",
              "          google.colab.kernel.accessAllowed ? 'block' : 'none';\n",
              "\n",
              "        async function convertToInteractive(key) {\n",
              "          const element = document.querySelector('#df-7c390437-dfb8-44aa-b181-f234d565951d');\n",
              "          const dataTable =\n",
              "            await google.colab.kernel.invokeFunction('convertToInteractive',\n",
              "                                                     [key], {});\n",
              "          if (!dataTable) return;\n",
              "\n",
              "          const docLinkHtml = 'Like what you see? Visit the ' +\n",
              "            '<a target=\"_blank\" href=https://colab.research.google.com/notebooks/data_table.ipynb>data table notebook</a>'\n",
              "            + ' to learn more about interactive tables.';\n",
              "          element.innerHTML = '';\n",
              "          dataTable['output_type'] = 'display_data';\n",
              "          await google.colab.output.renderOutput(dataTable, element);\n",
              "          const docLink = document.createElement('div');\n",
              "          docLink.innerHTML = docLinkHtml;\n",
              "          element.appendChild(docLink);\n",
              "        }\n",
              "      </script>\n",
              "    </div>\n",
              "  </div>\n",
              "  "
            ]
          },
          "metadata": {},
          "execution_count": 3
        }
      ]
    },
    {
      "cell_type": "code",
      "source": [
        "x=df['Cement'].mean()\n",
        "y=df['Cement'].median()\n",
        "z=df['Cement'].mode()\n",
        "x2=df['Fine_Aggregate'].mean()\n",
        "y2=df['Fine_Aggregate'].median()\n",
        "z2=df['Fine_Aggregate'].mode()\n",
        "x3=df['Strength'].mean()\n",
        "y3=df['Strength'].median()\n",
        "z3=df['Strength'].mode()\n",
        "\n",
        "print('Mean Cement= ',x,'Median Cement= ',y, 'Mode Cement= ',z)\n",
        "print('Mean Fine Aggregate= ',x2,'Median Fine Aggregate= ',y2, 'Mode Fine Aggregate= ',z2)\n",
        "print('Mean Strength= ',x3,'Median Strength= ',y3, 'Mode Strength= ',z3)"
      ],
      "metadata": {
        "colab": {
          "base_uri": "https://localhost:8080/"
        },
        "id": "SnriqRVi6hJn",
        "outputId": "1c6c1865-a723-4de9-8db2-77dbea521f66"
      },
      "execution_count": 4,
      "outputs": [
        {
          "output_type": "stream",
          "name": "stdout",
          "text": [
            "Mean Cement=  323.2575 Median Cement=  332.5 Mode Cement=  0    380.0\n",
            "dtype: float64\n",
            "Mean Fine Aggregate=  665.3399999999999 Median Fine Aggregate=  670.0 Mode Fine Aggregate=  0    594.0\n",
            "dtype: float64\n",
            "Mean Strength=  43.463136377249995 Median Strength=  42.180073254999996 Mode Strength=  0    52.90832\n",
            "dtype: float64\n"
          ]
        }
      ]
    },
    {
      "cell_type": "markdown",
      "source": [
        "# Question 2"
      ],
      "metadata": {
        "id": "fTwITyZss_28"
      }
    },
    {
      "cell_type": "code",
      "source": [
        "range_cement = max(df['Cement'] - min(df['Cement']))\n",
        "quartiles = df.Cement.quantile([0.25,0.5,0.75])\n",
        "x = df['Cement'].var()\n",
        "std = math.sqrt(x)\n",
        "print('Range: ', range_cement)\n",
        "print('Quartiles: ', quartiles, 'Variance: ', x, 'Standard Deviation: ', std)"
      ],
      "metadata": {
        "colab": {
          "base_uri": "https://localhost:8080/"
        },
        "id": "Ws9mepgcBnC6",
        "outputId": "954c1d50-69b1-4f54-b914-ca3020191e83"
      },
      "execution_count": 13,
      "outputs": [
        {
          "output_type": "stream",
          "name": "stdout",
          "text": [
            "Range:  400.4\n",
            "Quartiles:  0.25    227.775\n",
            "0.50    332.500\n",
            "0.75    391.875\n",
            "Name: Cement, dtype: float64 Variance:  13600.340455128206 Standard Deviation:  116.62049757709065\n"
          ]
        }
      ]
    },
    {
      "cell_type": "code",
      "source": [
        "range_agg = max(df['Coarse_Aggregate'] - min(df['Coarse_Aggregate']))\n",
        "quartiles = df.Coarse_Aggregate.quantile([0.25,0.5,0.75])\n",
        "x = df['Coarse_Aggregate'].var()\n",
        "std = math.sqrt(x)\n",
        "print('Range: ', range_agg)\n",
        "print('Quartiles: ', quartiles, 'Variance: ', x, 'Standard Deviation: ', std)"
      ],
      "metadata": {
        "colab": {
          "base_uri": "https://localhost:8080/"
        },
        "id": "OEEY4TI1B5gi",
        "outputId": "1eb9a328-3d95-43d2-aca1-d86abfa43d64"
      },
      "execution_count": 14,
      "outputs": [
        {
          "output_type": "stream",
          "name": "stdout",
          "text": [
            "Range:  123.0\n",
            "Quartiles:  0.25    932.0\n",
            "0.50    932.0\n",
            "0.75    943.6\n",
            "Name: Coarse_Aggregate, dtype: float64 Variance:  1771.644897435897 Standard Deviation:  42.09091229037329\n"
          ]
        }
      ]
    },
    {
      "cell_type": "code",
      "source": [
        "range_agg = max(df['Fine_Aggregate'] - min(df['Fine_Aggregate']))\n",
        "quartiles = df.Fine_Aggregate.quantile([0.25,0.5,0.75])\n",
        "x = df['Fine_Aggregate'].var()\n",
        "std = math.sqrt(x)\n",
        "print('Range: ', range_agg)\n",
        "print('Quartiles: ', quartiles, 'Variance: ', x, 'Standard Deviation: ', std)"
      ],
      "metadata": {
        "colab": {
          "base_uri": "https://localhost:8080/"
        },
        "id": "y488c9K7EBQb",
        "outputId": "884917ab-478a-4ae3-ff19-fb169b30d625"
      },
      "execution_count": 15,
      "outputs": [
        {
          "output_type": "stream",
          "name": "stdout",
          "text": [
            "Range:  231.5\n",
            "Quartiles:  0.25    594.0\n",
            "0.50    670.0\n",
            "0.75    671.5\n",
            "Name: Fine_Aggregate, dtype: float64 Variance:  7047.661948717949 Standard Deviation:  83.95035407142693\n"
          ]
        }
      ]
    },
    {
      "cell_type": "code",
      "source": [
        "range_strength = max(df['Strength'] - min(df['Strength']))\n",
        "quartiles = df.Strength.quantile([0.25,0.5,0.75])\n",
        "x = df['Strength'].var()\n",
        "std = math.sqrt(x)\n",
        "print('Range: ', range_strength)\n",
        "print('Quartiles: ', quartiles, 'Variance: ', x, 'Standard Deviation: ', std)"
      ],
      "metadata": {
        "colab": {
          "base_uri": "https://localhost:8080/"
        },
        "id": "VZg6Z8FoENOo",
        "outputId": "d0a6ac5b-d1ad-4a7b-b139-f7b6f9bf5ca6"
      },
      "execution_count": 17,
      "outputs": [
        {
          "output_type": "stream",
          "name": "stdout",
          "text": [
            "Range:  71.92268894\n",
            "Quartiles:  0.25    38.554808\n",
            "0.50    42.180073\n",
            "0.75    48.891433\n",
            "Name: Strength, dtype: float64 Variance:  122.44451823782761 Standard Deviation:  11.065465116199482\n"
          ]
        }
      ]
    },
    {
      "cell_type": "markdown",
      "source": [
        "# Question 3\n"
      ],
      "metadata": {
        "id": "k2Gr3OV2ohic"
      }
    },
    {
      "cell_type": "code",
      "source": [
        "!pip install stemgraphic\n",
        "import stemgraphic as STM"
      ],
      "metadata": {
        "colab": {
          "base_uri": "https://localhost:8080/"
        },
        "id": "pYaqa0CYEW3y",
        "outputId": "083e73da-9e43-41ac-cc92-b693bf3aa8cc"
      },
      "execution_count": 18,
      "outputs": [
        {
          "output_type": "stream",
          "name": "stdout",
          "text": [
            "Looking in indexes: https://pypi.org/simple, https://us-python.pkg.dev/colab-wheels/public/simple/\n",
            "Requirement already satisfied: stemgraphic in /usr/local/lib/python3.8/dist-packages (0.9.1)\n",
            "Requirement already satisfied: pandas in /usr/local/lib/python3.8/dist-packages (from stemgraphic) (1.3.5)\n",
            "Requirement already satisfied: docopt in /usr/local/lib/python3.8/dist-packages (from stemgraphic) (0.6.2)\n",
            "Requirement already satisfied: matplotlib in /usr/local/lib/python3.8/dist-packages (from stemgraphic) (3.2.2)\n",
            "Requirement already satisfied: seaborn in /usr/local/lib/python3.8/dist-packages (from stemgraphic) (0.11.2)\n",
            "Requirement already satisfied: pyparsing!=2.0.4,!=2.1.2,!=2.1.6,>=2.0.1 in /usr/local/lib/python3.8/dist-packages (from matplotlib->stemgraphic) (3.0.9)\n",
            "Requirement already satisfied: numpy>=1.11 in /usr/local/lib/python3.8/dist-packages (from matplotlib->stemgraphic) (1.21.6)\n",
            "Requirement already satisfied: cycler>=0.10 in /usr/local/lib/python3.8/dist-packages (from matplotlib->stemgraphic) (0.11.0)\n",
            "Requirement already satisfied: kiwisolver>=1.0.1 in /usr/local/lib/python3.8/dist-packages (from matplotlib->stemgraphic) (1.4.4)\n",
            "Requirement already satisfied: python-dateutil>=2.1 in /usr/local/lib/python3.8/dist-packages (from matplotlib->stemgraphic) (2.8.2)\n",
            "Requirement already satisfied: pytz>=2017.3 in /usr/local/lib/python3.8/dist-packages (from pandas->stemgraphic) (2022.7.1)\n",
            "Requirement already satisfied: scipy>=1.0 in /usr/local/lib/python3.8/dist-packages (from seaborn->stemgraphic) (1.7.3)\n",
            "Requirement already satisfied: six>=1.5 in /usr/local/lib/python3.8/dist-packages (from python-dateutil>=2.1->matplotlib->stemgraphic) (1.15.0)\n"
          ]
        }
      ]
    },
    {
      "cell_type": "code",
      "source": [
        "Fig, ax=STM.stem_graphic(df['Fine_Aggregate'],scale=100)"
      ],
      "metadata": {
        "colab": {
          "base_uri": "https://localhost:8080/",
          "height": 151
        },
        "id": "ldluOCcjEbJA",
        "outputId": "eb5ad138-41c4-4eff-c60b-40e932029536"
      },
      "execution_count": 58,
      "outputs": [
        {
          "output_type": "display_data",
          "data": {
            "text/plain": [
              "<Figure size 540x126 with 1 Axes>"
            ],
            "image/png": "[encoded data removed]"
          },
          "metadata": {
            "needs_background": "light"
          }
        }
      ]
    },
    {
      "cell_type": "code",
      "source": [
        "plt.figure(figsize = (8,8))\n",
        "plt.boxplot(df['Fine_Aggregate'])\n",
        "plt.title('Fine Aggregate', fontsize = 12)\n",
        "plt.xlabel('Aggregate', fontsize = 8)\n",
        "plt.ylabel(\"Aggregate\", fontsize = 8)\n"
      ],
      "metadata": {
        "colab": {
          "base_uri": "https://localhost:8080/",
          "height": 529
        },
        "id": "9P9TOnLlJO5T",
        "outputId": "6bd15f53-8d6f-430a-b8c8-37ef06ad693b"
      },
      "execution_count": 56,
      "outputs": [
        {
          "output_type": "execute_result",
          "data": {
            "text/plain": [
              "Text(0, 0.5, 'Aggregate')"
            ]
          },
          "metadata": {},
          "execution_count": 56
        },
        {
          "output_type": "display_data",
          "data": {
            "text/plain": [
              "<Figure size 576x576 with 1 Axes>"
            ],
            "image/png": "[encoded data removed]"
          },
          "metadata": {
            "needs_background": "light"
          }
        }
      ]
    },
    {
      "cell_type": "code",
      "source": [
        "plt.figure(figsize = (15,10))\n",
        "plt.hist(df['Fine_Aggregate'], bins =6)\n",
        "plt.xlabel('Fine Aggregate', fontsize = 15)\n",
        "plt.ylabel('Number of Observations', fontsize = 15)\n",
        "plt.title('Fine Aggregate Histogram', fontsize = 20)\n",
        "plt.show()"
      ],
      "metadata": {
        "colab": {
          "base_uri": "https://localhost:8080/",
          "height": 632
        },
        "id": "Uo6JHFLFokr-",
        "outputId": "1db08834-edc3-4856-ba51-f2360a1f44f2"
      },
      "execution_count": 51,
      "outputs": [
        {
          "output_type": "display_data",
          "data": {
            "text/plain": [
              "<Figure size 1080x720 with 1 Axes>"
            ],
            "image/png": "[encoded data removed]"
          },
          "metadata": {
            "needs_background": "light"
          }
        }
      ]
    },
    {
      "cell_type": "code",
      "source": [
        "Fig, ax=STM.stem_graphic(df['Strength'],scale=10)"
      ],
      "metadata": {
        "colab": {
          "base_uri": "https://localhost:8080/",
          "height": 232
        },
        "id": "1Em-jyr9E6xx",
        "outputId": "15dd6aff-1262-4bc9-8ddf-905219472e4a"
      },
      "execution_count": 12,
      "outputs": [
        {
          "output_type": "display_data",
          "data": {
            "text/plain": [
              "<Figure size 540x216 with 1 Axes>"
            ],
            "image/png": "[encoded data removed]"
          },
          "metadata": {
            "needs_background": "light"
          }
        }
      ]
    },
    {
      "cell_type": "code",
      "source": [
        "plt.figure(figsize = (8,8))\n",
        "plt.boxplot(df['Strength'])\n",
        "plt.title('Concrete Strength', fontsize = 12)\n",
        "plt.xlabel('Concrete', fontsize = 8)\n",
        "plt.ylabel(\"Concrete Strength in psi\", fontsize = 8)\n"
      ],
      "metadata": {
        "colab": {
          "base_uri": "https://localhost:8080/",
          "height": 529
        },
        "id": "fmlEIYHZeO8N",
        "outputId": "a559b4bd-46f4-42fc-f6f9-8d82fe7ae180"
      },
      "execution_count": 59,
      "outputs": [
        {
          "output_type": "execute_result",
          "data": {
            "text/plain": [
              "Text(0, 0.5, 'Concrete Strength in psi')"
            ]
          },
          "metadata": {},
          "execution_count": 59
        },
        {
          "output_type": "display_data",
          "data": {
            "text/plain": [
              "<Figure size 576x576 with 1 Axes>"
            ],
            "image/png": "[encoded data removed]"
          },
          "metadata": {
            "needs_background": "light"
          }
        }
      ]
    },
    {
      "cell_type": "code",
      "source": [
        "plt.figure(figsize = (15,10))\n",
        "plt.hist(df['Strength'], bins =6)\n",
        "plt.xlabel('Strength', fontsize = 15)\n",
        "plt.ylabel('Number of Observations', fontsize = 15)\n",
        "plt.title('Strength Histogram', fontsize = 20)\n",
        "plt.show()"
      ],
      "metadata": {
        "colab": {
          "base_uri": "https://localhost:8080/",
          "height": 632
        },
        "id": "poblFTo6sXIy",
        "outputId": "b6a963c1-31fa-4524-fcca-0fd9111d5aa1"
      },
      "execution_count": 52,
      "outputs": [
        {
          "output_type": "display_data",
          "data": {
            "text/plain": [
              "<Figure size 1080x720 with 1 Axes>"
            ],
            "image/png": "[encoded data removed]"
          },
          "metadata": {
            "needs_background": "light"
          }
        }
      ]
    },
    {
      "cell_type": "markdown",
      "source": [
        "# Question 4"
      ],
      "metadata": {
        "id": "1dmpyeZ5oakA"
      }
    },
    {
      "cell_type": "code",
      "source": [
        "plt.figure(figsize=(15,10))\n",
        "plt.scatter(df['Cement'],df['Strength'])\n",
        "plt.title('Cement vs Compressive Strength', fontsize= 20 )\n",
        "plt.xlabel('Cement', fontsize = 15)\n",
        "plt.ylabel('Strength', fontsize =15)\n",
        "plt.show()\n",
        "     "
      ],
      "metadata": {
        "colab": {
          "base_uri": "https://localhost:8080/",
          "height": 632
        },
        "id": "htqS3dpMepQm",
        "outputId": "97785dab-1022-4bc5-d598-fbb5bd404f52"
      },
      "execution_count": 28,
      "outputs": [
        {
          "output_type": "display_data",
          "data": {
            "text/plain": [
              "<Figure size 1080x720 with 1 Axes>"
            ],
            "image/png": "[encoded data removed]"
          },
          "metadata": {
            "needs_background": "light"
          }
        }
      ]
    },
    {
      "cell_type": "code",
      "source": [
        "plt.figure(figsize=(15,10))\n",
        "plt.scatter(df['Coarse_Aggregate'],df['Strength'])\n",
        "plt.title('Coarse Aggregate vs Compressive Strength', fontsize= 20 )\n",
        "plt.xlabel('Coarse Aggregate', fontsize = 15)\n",
        "plt.ylabel('Strength', fontsize =15)\n",
        "plt.show()\n",
        "     "
      ],
      "metadata": {
        "colab": {
          "base_uri": "https://localhost:8080/",
          "height": 632
        },
        "id": "fsDeIjtEgYDE",
        "outputId": "089769a2-5054-4a6d-dd5b-f9e9f942c8cd"
      },
      "execution_count": 29,
      "outputs": [
        {
          "output_type": "display_data",
          "data": {
            "text/plain": [
              "<Figure size 1080x720 with 1 Axes>"
            ],
            "image/png": "[encoded data removed]"
          },
          "metadata": {
            "needs_background": "light"
          }
        }
      ]
    },
    {
      "cell_type": "code",
      "source": [
        "plt.figure(figsize=(15,10))\n",
        "plt.scatter(df['Fine_Aggregate'],df['Strength'])\n",
        "plt.title('Fine Aggregate vs Compressive Strength', fontsize= 20 )\n",
        "plt.xlabel('Fine Aggregate', fontsize = 15)\n",
        "plt.ylabel('Strength', fontsize =15)\n",
        "plt.show()\n",
        "     "
      ],
      "metadata": {
        "colab": {
          "base_uri": "https://localhost:8080/",
          "height": 632
        },
        "id": "X3Hy8IIGhpD2",
        "outputId": "c28c8396-e5b0-4589-80ec-6b4f6479b5fb"
      },
      "execution_count": 30,
      "outputs": [
        {
          "output_type": "display_data",
          "data": {
            "text/plain": [
              "<Figure size 1080x720 with 1 Axes>"
            ],
            "image/png": "[encoded data removed]"
          },
          "metadata": {
            "needs_background": "light"
          }
        }
      ]
    },
    {
      "cell_type": "code",
      "source": [
        "\n",
        "fig, ((ax1, ax2,ax3)) = plt.subplots(nrows=1,ncols=3,figsize=(20,6))\n",
        "ax1.plot()\n",
        "ax2.plot()\n",
        "ax3.plot()\n",
        "ax1.scatter(df['Cement'],df['Strength'],color='r')\n",
        "ax1.set(title='Cement vs Compressive Strength',xlabel='Cement',ylabel='Strength')\n",
        "ax2.scatter(df['Coarse_Aggregate'],df['Strength'],color='g')\n",
        "ax2.set(title='Coarse Aggregate vs Compressive Strength',xlabel='Coarse',ylabel='Strength')\n",
        "ax3.scatter(df['Fine_Aggregate'],df['Strength'],color='b')\n",
        "ax3.set(title='Fine Aggregate vs Compressive Strength',xlabel='Fine',ylabel='Strength')\n",
        "plt.show()"
      ],
      "metadata": {
        "colab": {
          "base_uri": "https://localhost:8080/",
          "height": 404
        },
        "id": "MfsTI3DSoqWX",
        "outputId": "80e6ca53-1f7f-4748-842c-97be689e4c1c"
      },
      "execution_count": 35,
      "outputs": [
        {
          "output_type": "display_data",
          "data": {
            "text/plain": [
              "<Figure size 1440x432 with 3 Axes>"
            ],
            "image/png": "[encoded data removed]"
          },
          "metadata": {
            "needs_background": "light"
          }
        }
      ]
    }
  ]
}